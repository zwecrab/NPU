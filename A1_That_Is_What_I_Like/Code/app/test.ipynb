{
 "cells": [
  {
   "cell_type": "code",
   "execution_count": 1,
   "metadata": {},
   "outputs": [],
   "source": [
    "import os\n",
    "import pickle"
   ]
  },
  {
   "cell_type": "code",
   "execution_count": 8,
   "metadata": {},
   "outputs": [],
   "source": [
    "skipgram_data = pickle.load(open(r'../model/skipgram_metadata.pkl', 'rb'))"
   ]
  },
  {
   "cell_type": "code",
   "execution_count": 9,
   "metadata": {},
   "outputs": [
    {
     "name": "stdout",
     "output_type": "stream",
     "text": [
      "Defaulting to user installation because normal site-packages is not writeable\n",
      "Collecting python-Levenshtein\n",
      "  Downloading python_Levenshtein-0.26.1-py3-none-any.whl.metadata (3.7 kB)\n",
      "Collecting Levenshtein==0.26.1 (from python-Levenshtein)\n",
      "  Downloading levenshtein-0.26.1-cp312-cp312-win_amd64.whl.metadata (3.2 kB)\n",
      "Collecting rapidfuzz<4.0.0,>=3.9.0 (from Levenshtein==0.26.1->python-Levenshtein)\n",
      "  Downloading rapidfuzz-3.11.0-cp312-cp312-win_amd64.whl.metadata (11 kB)\n",
      "Downloading python_Levenshtein-0.26.1-py3-none-any.whl (9.4 kB)\n",
      "Downloading levenshtein-0.26.1-cp312-cp312-win_amd64.whl (98 kB)\n",
      "   ---------------------------------------- 0.0/98.8 kB ? eta -:--:--\n",
      "   ------------------------ --------------- 61.4/98.8 kB 3.2 MB/s eta 0:00:01\n",
      "   ---------------------------------------- 98.8/98.8 kB 1.9 MB/s eta 0:00:00\n",
      "Downloading rapidfuzz-3.11.0-cp312-cp312-win_amd64.whl (1.6 MB)\n",
      "   ---------------------------------------- 0.0/1.6 MB ? eta -:--:--\n",
      "   ---- ----------------------------------- 0.2/1.6 MB 4.8 MB/s eta 0:00:01\n",
      "   ---------- ----------------------------- 0.4/1.6 MB 5.4 MB/s eta 0:00:01\n",
      "   ---------------- ----------------------- 0.7/1.6 MB 5.2 MB/s eta 0:00:01\n",
      "   ---------------------- ----------------- 0.9/1.6 MB 5.3 MB/s eta 0:00:01\n",
      "   ----------------------------- ---------- 1.2/1.6 MB 5.3 MB/s eta 0:00:01\n",
      "   ----------------------------------- ---- 1.4/1.6 MB 5.4 MB/s eta 0:00:01\n",
      "   ---------------------------------------- 1.6/1.6 MB 5.1 MB/s eta 0:00:00\n",
      "Installing collected packages: rapidfuzz, Levenshtein, python-Levenshtein\n",
      "Successfully installed Levenshtein-0.26.1 python-Levenshtein-0.26.1 rapidfuzz-3.11.0\n"
     ]
    },
    {
     "name": "stderr",
     "output_type": "stream",
     "text": [
      "\n",
      "[notice] A new release of pip is available: 24.0 -> 24.3.1\n",
      "[notice] To update, run: python.exe -m pip install --upgrade pip\n"
     ]
    }
   ],
   "source": [
    "!pip install python-Levenshtein"
   ]
  },
  {
   "cell_type": "code",
   "execution_count": null,
   "metadata": {},
   "outputs": [],
   "source": []
  }
 ],
 "metadata": {
  "kernelspec": {
   "display_name": "Python 3",
   "language": "python",
   "name": "python3"
  },
  "language_info": {
   "codemirror_mode": {
    "name": "ipython",
    "version": 3
   },
   "file_extension": ".py",
   "mimetype": "text/x-python",
   "name": "python",
   "nbconvert_exporter": "python",
   "pygments_lexer": "ipython3",
   "version": "3.12.2"
  }
 },
 "nbformat": 4,
 "nbformat_minor": 2
}
