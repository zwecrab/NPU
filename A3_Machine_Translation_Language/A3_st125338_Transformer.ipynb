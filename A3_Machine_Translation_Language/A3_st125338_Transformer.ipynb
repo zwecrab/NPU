{
 "cells": [
  {
   "cell_type": "markdown",
   "metadata": {},
   "source": [
    "# A3: Machine Translation + Transformer (st125338)"
   ]
  },
  {
   "cell_type": "code",
   "execution_count": 85,
   "metadata": {},
   "outputs": [
    {
     "name": "stdout",
     "output_type": "stream",
     "text": [
      "Package                            Version\n",
      "---------------------------------- -----------\n",
      "aiohappyeyeballs                   2.4.4\n",
      "aiohttp                            3.11.11\n",
      "aiosignal                          1.3.2\n",
      "alembic                            1.13.2\n",
      "aniso8601                          9.0.1\n",
      "annotated-types                    0.7.0\n",
      "asttokens                          2.4.1\n",
      "async-timeout                      5.0.1\n",
      "attrs                              24.2.0\n",
      "beautifulsoup4                     4.12.3\n",
      "black                              24.8.0\n",
      "bleach                             6.1.0\n",
      "blinker                            1.8.2\n",
      "blis                               1.2.0\n",
      "cachetools                         5.5.0\n",
      "catalogue                          2.0.10\n",
      "certifi                            2024.7.4\n",
      "cffi                               1.17.0\n",
      "chardet                            3.0.4\n",
      "charset-normalizer                 3.3.2\n",
      "click                              8.1.7\n",
      "cloudpathlib                       0.20.0\n",
      "cloudpickle                        3.0.0\n",
      "colorama                           0.4.6\n",
      "comm                               0.2.2\n",
      "confection                         0.1.5\n",
      "contourpy                          1.2.1\n",
      "cycler                             0.12.1\n",
      "cymem                              2.0.11\n",
      "dash                               2.17.1\n",
      "dash-bootstrap-components          1.6.0\n",
      "dash-core-components               2.0.0\n",
      "dash-html-components               2.0.0\n",
      "dash-table                         5.0.0\n",
      "databricks-sdk                     0.31.1\n",
      "datasets                           3.2.0\n",
      "debugpy                            1.8.5\n",
      "decorator                          5.1.1\n",
      "defusedxml                         0.7.1\n",
      "Deprecated                         1.2.14\n",
      "dill                               0.3.8\n",
      "docker                             7.1.0\n",
      "en_core_web_sm                     3.8.0\n",
      "et-xmlfile                         1.1.0\n",
      "exceptiongroup                     1.2.2\n",
      "executing                          2.0.1\n",
      "fastjsonschema                     2.20.0\n",
      "filelock                           3.16.1\n",
      "Flask                              3.0.3\n",
      "fonttools                          4.53.1\n",
      "frozenlist                         1.5.0\n",
      "fsspec                             2024.9.0\n",
      "gensim                             4.3.3\n",
      "gitdb                              4.0.11\n",
      "GitPython                          3.1.43\n",
      "google-auth                        2.34.0\n",
      "googletrans                        4.0.0rc1\n",
      "graphene                           3.3\n",
      "graphql-core                       3.2.3\n",
      "graphql-relay                      3.2.0\n",
      "greenlet                           3.0.3\n",
      "h11                                0.9.0\n",
      "h2                                 3.2.0\n",
      "hpack                              3.0.0\n",
      "hstspreload                        2025.1.1\n",
      "httpcore                           0.9.1\n",
      "httpx                              0.13.3\n",
      "huggingface-hub                    0.27.1\n",
      "hyperframe                         5.2.0\n",
      "idna                               2.10\n",
      "imageio                            2.35.0\n",
      "importlib_metadata                 8.4.0\n",
      "ipykernel                          6.29.5\n",
      "ipython                            8.26.0\n",
      "itsdangerous                       2.2.0\n",
      "jedi                               0.19.1\n",
      "Jinja2                             3.1.4\n",
      "joblib                             1.4.2\n",
      "jsonschema                         4.23.0\n",
      "jsonschema-specifications          2023.12.1\n",
      "jupyter_client                     8.6.2\n",
      "jupyter_core                       5.7.2\n",
      "jupyterlab_pygments                0.3.0\n",
      "kiwisolver                         1.4.5\n",
      "langcodes                          3.5.0\n",
      "language_data                      1.3.0\n",
      "Mako                               1.3.5\n",
      "marisa-trie                        1.2.1\n",
      "Markdown                           3.7\n",
      "markdown-it-py                     3.0.0\n",
      "MarkupSafe                         2.1.5\n",
      "matplotlib                         3.9.2\n",
      "matplotlib-inline                  0.1.7\n",
      "mdurl                              0.1.2\n",
      "mistune                            3.0.2\n",
      "mlflow                             2.16.0\n",
      "mlflow-skinny                      2.16.0\n",
      "mpmath                             1.3.0\n",
      "multidict                          6.1.0\n",
      "multiprocess                       0.70.16\n",
      "murmurhash                         1.0.12\n",
      "mypy-extensions                    1.0.0\n",
      "nbclient                           0.10.0\n",
      "nbconvert                          7.16.4\n",
      "nbformat                           5.10.4\n",
      "nest-asyncio                       1.6.0\n",
      "networkx                           3.4.2\n",
      "nltk                               3.9.1\n",
      "numpy                              1.23.5\n",
      "odfpy                              1.4.1\n",
      "openpyxl                           3.1.5\n",
      "opentelemetry-api                  1.27.0\n",
      "opentelemetry-sdk                  1.27.0\n",
      "opentelemetry-semantic-conventions 0.48b0\n",
      "outcome                            1.3.0.post0\n",
      "packaging                          24.1\n",
      "pandas                             1.5.3\n",
      "pandoc                             2.4\n",
      "pandocfilters                      1.5.1\n",
      "parso                              0.8.4\n",
      "pathspec                           0.12.1\n",
      "patsy                              0.5.6\n",
      "pillow                             10.4.0\n",
      "pip                                25.0\n",
      "platformdirs                       4.2.2\n",
      "plotly                             5.23.0\n",
      "plumbum                            1.8.3\n",
      "ply                                3.11\n",
      "portalocker                        3.1.1\n",
      "ppscore                            1.3.0\n",
      "preshed                            3.0.9\n",
      "prompt_toolkit                     3.0.47\n",
      "propcache                          0.2.1\n",
      "protobuf                           5.28.0\n",
      "psutil                             6.0.0\n",
      "pure_eval                          0.2.3\n",
      "pyarrow                            17.0.0\n",
      "pyasn1                             0.6.0\n",
      "pyasn1_modules                     0.4.0\n",
      "pybind11                           2.13.6\n",
      "pycparser                          2.22\n",
      "pydantic                           2.10.6\n",
      "pydantic_core                      2.27.2\n",
      "Pygments                           2.18.0\n",
      "pyparsing                          3.1.2\n",
      "PySocks                            1.7.1\n",
      "python-calamine                    0.2.3\n",
      "python-dateutil                    2.9.0.post0\n",
      "pytz                               2024.1\n",
      "pywin32                            306\n",
      "pyxlsb                             1.0.10\n",
      "PyYAML                             6.0.2\n",
      "pyzmq                              26.1.0\n",
      "referencing                        0.35.1\n",
      "regex                              2024.11.6\n",
      "reportlab                          4.2.2\n",
      "requests                           2.32.3\n",
      "retrying                           1.3.4\n",
      "rfc3986                            1.5.0\n",
      "rich                               13.9.4\n",
      "rpds-py                            0.20.0\n",
      "rsa                                4.9\n",
      "safetensors                        0.5.2\n",
      "scikit-learn                       1.5.1\n",
      "scipy                              1.13.1\n",
      "seaborn                            0.13.2\n",
      "selenium                           4.23.1\n",
      "sentencepiece                      0.2.0\n",
      "setuptools                         75.8.0\n",
      "shellingham                        1.5.4\n",
      "six                                1.16.0\n",
      "smart-open                         7.1.0\n",
      "smmap                              5.0.1\n",
      "sniffio                            1.3.1\n",
      "sortedcontainers                   2.4.0\n",
      "soupsieve                          2.6\n",
      "spacy                              3.8.4\n",
      "spacy-legacy                       3.0.12\n",
      "spacy-loggers                      1.0.5\n",
      "SQLAlchemy                         2.0.32\n",
      "sqlparse                           0.5.1\n",
      "srsly                              2.5.1\n",
      "stack-data                         0.6.3\n",
      "statsmodels                        0.14.2\n",
      "sympy                              1.13.1\n",
      "tenacity                           9.0.0\n",
      "thinc                              8.3.4\n",
      "threadpoolctl                      3.5.0\n",
      "tinycss2                           1.3.0\n",
      "tokenizers                         0.21.0\n",
      "tomli                              2.0.1\n",
      "torch                              2.1.2+cu121\n",
      "torchaudio                         2.2.0\n",
      "torchdata                          0.7.1\n",
      "torchtext                          0.16.2+cpu\n",
      "torchvision                        0.17.0\n",
      "tornado                            6.4.1\n",
      "tqdm                               4.67.1\n",
      "traitlets                          5.14.3\n",
      "transformers                       4.48.1\n",
      "trio                               0.26.2\n",
      "trio-websocket                     0.11.1\n",
      "typer                              0.15.1\n",
      "typing_extensions                  4.12.2\n",
      "tzdata                             2024.1\n",
      "urllib3                            2.2.2\n",
      "waitress                           3.0.0\n",
      "wasabi                             1.1.3\n",
      "wcwidth                            0.2.13\n",
      "weasel                             0.4.1\n",
      "webencodings                       0.5.1\n",
      "websocket-client                   1.8.0\n",
      "Werkzeug                           3.0.3\n",
      "wheel                              0.45.1\n",
      "wrapt                              1.16.0\n",
      "wsproto                            1.2.0\n",
      "xlrd                               2.0.1\n",
      "XlsxWriter                         3.2.0\n",
      "xxhash                             3.5.0\n",
      "yarl                               1.18.3\n",
      "zipp                               3.20.0\n"
     ]
    }
   ],
   "source": [
    "!pip list"
   ]
  },
  {
   "cell_type": "code",
   "execution_count": 86,
   "metadata": {},
   "outputs": [
    {
     "name": "stdout",
     "output_type": "stream",
     "text": [
      "Switching to NVIDIA GeForce RTX 3070 Laptop GPU (Device None)\n"
     ]
    }
   ],
   "source": [
    "import torch, torchdata, torchtext\n",
    "import torch.nn as nn\n",
    "import torch.nn.functional as F\n",
    "\n",
    "import random, math, time\n",
    "\n",
    "if torch.cuda.is_available():\n",
    "    device = torch.device(\"cuda\")\n",
    "    print(f\"Switching to {torch.cuda.get_device_name(device.index)} (Device {device.index})\")\n",
    "\n",
    "#make our work comparable if restarted the kernel\n",
    "SEED = 1234\n",
    "torch.manual_seed(SEED)\n",
    "torch.backends.cudnn.deterministic = True"
   ]
  },
  {
   "cell_type": "code",
   "execution_count": 87,
   "metadata": {},
   "outputs": [],
   "source": [
    "# torch.cuda.get_device_name(0)"
   ]
  },
  {
   "cell_type": "code",
   "execution_count": 88,
   "metadata": {},
   "outputs": [
    {
     "data": {
      "text/plain": [
       "'2.1.2+cu121'"
      ]
     },
     "execution_count": 88,
     "metadata": {},
     "output_type": "execute_result"
    }
   ],
   "source": [
    "torch.__version__"
   ]
  },
  {
   "cell_type": "code",
   "execution_count": 89,
   "metadata": {},
   "outputs": [
    {
     "data": {
      "text/plain": [
       "'0.16.2+cpu'"
      ]
     },
     "execution_count": 89,
     "metadata": {},
     "output_type": "execute_result"
    }
   ],
   "source": [
    "torchtext.__version__"
   ]
  },
  {
   "cell_type": "markdown",
   "metadata": {
    "tags": []
   },
   "source": [
    "## 1. ETL: Loading the dataset\n",
    "\n",
    "**Note**: Here I chose to translate English to German, simply it is easier for myself, since I don't understand German so it is difficult for me to imagine a sentence during inference."
   ]
  },
  {
   "cell_type": "code",
   "execution_count": 90,
   "metadata": {},
   "outputs": [
    {
     "name": "stderr",
     "output_type": "stream",
     "text": [
      "C:\\Users\\ws-\\AppData\\Local\\Packages\\PythonSoftwareFoundation.Python.3.10_qbz5n2kfra8p0\\LocalCache\\local-packages\\Python310\\site-packages\\huggingface_hub\\file_download.py:140: UserWarning: `huggingface_hub` cache-system uses symlinks by default to efficiently store duplicated files but your machine does not support them in C:\\Users\\ws-\\.cache\\huggingface\\hub\\datasets--st125338--npu_a3_en_my. Caching files will still work but in a degraded version that might require more space on your disk. This warning can be disabled by setting the `HF_HUB_DISABLE_SYMLINKS_WARNING` environment variable. For more details, see https://huggingface.co/docs/huggingface_hub/how-to-cache#limitations.\n",
      "To support symlinks on Windows, you either need to activate Developer Mode or to run Python as an administrator. In order to activate developer mode, see this article: https://docs.microsoft.com/en-us/windows/apps/get-started/enable-your-device-for-development\n",
      "  warnings.warn(message)\n",
      "Generating train split: 100%|██████████| 9713/9713 [00:00<00:00, 940708.77 examples/s]\n",
      "Generating validation split: 100%|██████████| 99/99 [00:00<00:00, 22487.74 examples/s]\n",
      "Generating test split: 100%|██████████| 100/100 [00:00<00:00, 20908.79 examples/s]\n"
     ]
    }
   ],
   "source": [
    "import datasets\n",
    "\n",
    "dataset = datasets.load_dataset('st125338/npu_a3_en_my')"
   ]
  },
  {
   "cell_type": "code",
   "execution_count": 91,
   "metadata": {},
   "outputs": [
    {
     "data": {
      "text/plain": [
       "DatasetDict({\n",
       "    train: Dataset({\n",
       "        features: ['en', 'my'],\n",
       "        num_rows: 9713\n",
       "    })\n",
       "    validation: Dataset({\n",
       "        features: ['en', 'my'],\n",
       "        num_rows: 99\n",
       "    })\n",
       "    test: Dataset({\n",
       "        features: ['en', 'my'],\n",
       "        num_rows: 100\n",
       "    })\n",
       "})"
      ]
     },
     "execution_count": 91,
     "metadata": {},
     "output_type": "execute_result"
    }
   ],
   "source": [
    "dataset"
   ]
  },
  {
   "cell_type": "markdown",
   "metadata": {
    "tags": []
   },
   "source": [
    "## 2. EDA - simple investigation"
   ]
  },
  {
   "cell_type": "code",
   "execution_count": 92,
   "metadata": {},
   "outputs": [],
   "source": [
    "train = [(row['en'], row['my']) for row in dataset['train']]"
   ]
  },
  {
   "cell_type": "code",
   "execution_count": 93,
   "metadata": {},
   "outputs": [],
   "source": [
    "test = [(row['en'], row['my']) for row in dataset['test']]"
   ]
  },
  {
   "cell_type": "code",
   "execution_count": 94,
   "metadata": {},
   "outputs": [],
   "source": [
    "val = [(row['en'], row['my']) for row in dataset['validation']]"
   ]
  },
  {
   "cell_type": "code",
   "execution_count": 95,
   "metadata": {},
   "outputs": [
    {
     "data": {
      "text/plain": [
       "('Jeremy Pitt answered the laugh by giggling and throwing an uppercut into the laughers face',\n",
       " 'ကတခစ်ခစ်ရယ်လိုက်ပြီးနောက်ရယ်နေသူ၏မျက်နှာကိုပင့်လက်သီးတလုံးထိုးလိုက်ခြင်းဖြင့်ရယ်မောခြင်းကိုတုံ့ပြန်ခဲ့သည်။')"
      ]
     },
     "execution_count": 95,
     "metadata": {},
     "output_type": "execute_result"
    }
   ],
   "source": [
    "#let's take a look at one example of train\n",
    "sample = train[3]\n",
    "sample"
   ]
  },
  {
   "cell_type": "code",
   "execution_count": 96,
   "metadata": {},
   "outputs": [
    {
     "data": {
      "text/plain": [
       "9713"
      ]
     },
     "execution_count": 96,
     "metadata": {},
     "output_type": "execute_result"
    }
   ],
   "source": [
    "train_size = len(list(iter(train)))\n",
    "train_size"
   ]
  },
  {
   "cell_type": "code",
   "execution_count": 97,
   "metadata": {},
   "outputs": [
    {
     "data": {
      "text/plain": [
       "99"
      ]
     },
     "execution_count": 97,
     "metadata": {},
     "output_type": "execute_result"
    }
   ],
   "source": [
    "val_size = len(list(iter(val)))\n",
    "val_size"
   ]
  },
  {
   "cell_type": "code",
   "execution_count": 98,
   "metadata": {},
   "outputs": [
    {
     "data": {
      "text/plain": [
       "100"
      ]
     },
     "execution_count": 98,
     "metadata": {},
     "output_type": "execute_result"
    }
   ],
   "source": [
    "test_size = len(list(iter(test)))\n",
    "test_size"
   ]
  },
  {
   "cell_type": "markdown",
   "metadata": {
    "tags": []
   },
   "source": [
    "## 3. Preprocessing \n",
    "\n",
    "### Tokenizing\n",
    "\n",
    "**Note**: the models must first be downloaded using the following on the command line: \n",
    "```\n",
    "python3 -m spacy download en_core_web_sm\n",
    "python3 -m spacy download de_core_news_sm\n",
    "```\n",
    "\n",
    "First, since we have two languages, let's create some constants to represent that.  Also, let's create two dicts: one for holding our tokenizers and one for holding all the vocabs with assigned numbers for each unique word"
   ]
  },
  {
   "cell_type": "code",
   "execution_count": 99,
   "metadata": {},
   "outputs": [],
   "source": [
    "# Place-holders\n",
    "token_transform = {}\n",
    "vocab_transform = {}"
   ]
  },
  {
   "cell_type": "code",
   "execution_count": 100,
   "metadata": {},
   "outputs": [],
   "source": [
    "# # Burmese word tokenizer\n",
    "# import pyidaungsu as pds\n",
    "\n",
    "# def pds_tokenizer(sentence):\n",
    "#     return pds.tokenize(sentence, form=\"word\")"
   ]
  },
  {
   "cell_type": "code",
   "execution_count": 101,
   "metadata": {},
   "outputs": [],
   "source": [
    "# Myanmar language custom tokenization\n",
    "\"\"\"\n",
    "\n",
    "This code is updated version of this: https://gist.github.com/markdtw/e2a4e2ee7cef8ea6aed33bb47a97fba6\n",
    "Ye Kyaw Thu, LST, NECTEC, Thailand updated followings:\n",
    "-- added recursion limit\n",
    "-- changed P_unigram and P_bigram as module level global variable\n",
    "-- using binary ngram dictionary\n",
    "--  set N value of this: \"def __init__(self, datafile=None, unigram=True, N=102490):\"\n",
    "-- Last Updated: 5 Sept 2021\n",
    "\n",
    "# References:\n",
    "- Python implementation of Viterbi algorithm for word segmentation: \n",
    "- Updated version of this: https://gist.github.com/markdtw/e2a4e2ee7cef8ea6aed33bb47a97fba6\n",
    "- A clean-up of this: http://norvig.com/ngrams/ch14.pdf\n",
    "- For recursion limit: https://www.geeksforgeeks.org/python-handling-recursion-limit/\n",
    "- A. Viterbi, \"Error bounds for convolutional codes and an asymptotically optimum decoding algorithm,\" in IEEE Transactions on Information Theory, vol. 13, no. 2, pp. 260-269, April 1967, doi: 10.1109/TIT.1967.1054010.\n",
    "\n",
    "\"\"\"\n",
    "\n",
    "import math\n",
    "import functools\n",
    "import sys\n",
    "import pickle\n",
    "\n",
    "sys.setrecursionlimit(10**6)\n",
    "\n",
    "uni_dict_bin = 'dataset/bins/unigram-word.bin'\n",
    "bi_dict_bin = 'dataset/bins/bigram-word.bin'                \n",
    "\n",
    "def read_dict (fileDICT):\n",
    "    try:\n",
    "        with open(fileDICT, 'rb') as input_file:\n",
    "            dictionary = pickle.load(input_file)\n",
    "            input_file.close()\n",
    "    except FileNotFoundError:\n",
    "        print('Dictionary file', fileDICT, ' not found!')\n",
    "    return dictionary\n",
    "\n",
    "class ProbDist(dict):\n",
    "    ### Probability distribution estimated from unigram/bigram data\n",
    "    def __init__(self, datafile=None, unigram=True, N=102490):\n",
    "    #def __init__(self, datafile=None, unigram=True, N=1024908267229):\n",
    "    #def __init__(self, datafile=None, unigram=True, N=8199266137832):\n",
    "        #data = {}\n",
    "        data = read_dict(datafile)\n",
    "        for k, c in data.items():\n",
    "            self[k] = self.get(k, 0) + c\n",
    "\n",
    "        if unigram:\n",
    "            self.unknownprob = lambda k, N: 10 / (N*10**len(k))    # avoid unknown long word\n",
    "        else:\n",
    "            self.unknownprob = lambda k, N: 1 / N\n",
    "\n",
    "        self.N = N\n",
    "\n",
    "    def __call__(self, key):\n",
    "        if key in self:\n",
    "            return self[key]/self.N\n",
    "        else:\n",
    "            return self.unknownprob(key, self.N)\n",
    "        \n",
    "\n",
    "P_unigram = ProbDist(uni_dict_bin, True)\n",
    "P_bigram = ProbDist(bi_dict_bin, False)\n",
    "\n",
    "\n",
    "def conditionalProb(word_curr, word_prev):\n",
    "    ### Conditional probability of current word given the previous word.\n",
    "    try:\n",
    "        return P_bigram[word_prev + ' ' + word_curr]/P_unigram[word_prev]\n",
    "    except KeyError:\n",
    "        return P_unigram(word_curr)\n",
    "\n",
    "\n",
    "@functools.lru_cache(maxsize=2**10)\n",
    "#maxlen=20\n",
    "def viterbi(text, prev='<S>', maxlen=20):\n",
    "    if not text:\n",
    "        return 0.0, []\n",
    "    \n",
    "    #print(\"text: \", text)\n",
    "    textlen = min(len(text), maxlen)\n",
    "    splits = [(text[:i + 1], text[i + 1:]) for i in range(textlen)]\n",
    "\n",
    "    candidates = []\n",
    "    #print(\"clear candidates!  candidates = []\")\n",
    "    for first_word, remain_word in splits:\n",
    "        #pdb.set_trace()\n",
    "        first_prob = math.log10(conditionalProb(first_word, prev))\n",
    "        #print(\"first_prob of condProb(\", first_word, \", \", prev, \"): \", first_prob )\n",
    "        remain_prob, remain_word = viterbi(remain_word, first_word)\n",
    "        #print(\"remain_prob: \", remain_prob, \", remain_word: \", remain_word)\n",
    "        candidates.append((first_prob + remain_prob, [first_word] + remain_word))\n",
    "        #print(\"first_prob: \", str(first_prob), \", remain_prob: \", remain_prob, \", [first_word]:\", [first_word], \", remain_word: \", remain_word)\n",
    "        #print(\"Candidates: \", candidates)\n",
    "        \n",
    "    #print(\"max(candidates): \" + str(max(candidates)))\n",
    "    #print(\"====================\")\n",
    "    return max(candidates)"
   ]
  },
  {
   "cell_type": "code",
   "execution_count": 102,
   "metadata": {},
   "outputs": [],
   "source": [
    "def my_tokenizer(text):\n",
    "    if text is None:\n",
    "        return []\n",
    "    wordDelimiter= '|' # assign local variable delimiter\n",
    "\n",
    "    input      = text[:]\n",
    "    # text     = corpus['train'][0][TRG_LANGUAGE]\n",
    "    listString = viterbi(input.replace(\" \", \"\").strip()) # remove space between words and pass to viterbi()\n",
    "    # print(\"listString: \" + str(listString))\n",
    "    wordStr    = wordDelimiter.join(listString[1])\n",
    "    wordClean1 = wordStr.strip()\n",
    "    wordClean2 = wordClean1.strip(wordDelimiter)    \n",
    "    wordClean2 = wordClean2.split('|')                \n",
    "    return wordClean2"
   ]
  },
  {
   "cell_type": "code",
   "execution_count": 103,
   "metadata": {},
   "outputs": [],
   "source": [
    "SRC_LANGUAGE = 'en'\n",
    "TRG_LANGUAGE = 'my'"
   ]
  },
  {
   "cell_type": "code",
   "execution_count": 104,
   "metadata": {
    "scrolled": true
   },
   "outputs": [],
   "source": [
    "from torchtext.data.utils import get_tokenizer\n",
    "token_transform[SRC_LANGUAGE] = get_tokenizer('spacy', language='en_core_web_sm')\n",
    "token_transform[TRG_LANGUAGE] = my_tokenizer"
   ]
  },
  {
   "cell_type": "code",
   "execution_count": 105,
   "metadata": {},
   "outputs": [
    {
     "name": "stdout",
     "output_type": "stream",
     "text": [
      "Sentence:  Jeremy Pitt answered the laugh by giggling and throwing an uppercut into the laughers face\n",
      "Tokenization:  ['Jeremy', 'Pitt', 'answered', 'the', 'laugh', 'by', 'giggling', 'and', 'throwing', 'an', 'uppercut', 'into', 'the', 'laughers', 'face']\n"
     ]
    }
   ],
   "source": [
    "#example of tokenization of the english part\n",
    "print(\"Sentence: \", sample[0])\n",
    "print(\"Tokenization: \", token_transform[SRC_LANGUAGE](sample[0]))"
   ]
  },
  {
   "cell_type": "code",
   "execution_count": 106,
   "metadata": {},
   "outputs": [
    {
     "name": "stdout",
     "output_type": "stream",
     "text": [
      "Sentence:  ကတခစ်ခစ်ရယ်လိုက်ပြီးနောက်ရယ်နေသူ၏မျက်နှာကိုပင့်လက်သီးတလုံးထိုးလိုက်ခြင်းဖြင့်ရယ်မောခြင်းကိုတုံ့ပြန်ခဲ့သည်။\n",
      "Tokenization:  ['က', 'တခစ်ခစ်', 'ရယ်', 'လိုက်', 'ပြီး', 'နောက်', 'ရယ်', 'နေ', 'သူ', '၏', 'မျက်နှာ', 'ကို', 'ပင့်', 'လက်သီး', 'တလုံး', 'ထိုး', 'လိုက်', 'ခြင်း', 'ဖြင့်', 'ရယ်မော', 'ခြင်း', 'ကို', 'တုံ့ပြန်', 'ခဲ့', 'သည်', '။']\n"
     ]
    }
   ],
   "source": [
    "#example of tokenization of the burmese part\n",
    "print(\"Sentence: \", sample[1])\n",
    "print(\"Tokenization: \", token_transform[TRG_LANGUAGE](sample[1]))"
   ]
  },
  {
   "cell_type": "markdown",
   "metadata": {},
   "source": [
    "A function to tokenize our input."
   ]
  },
  {
   "cell_type": "code",
   "execution_count": 107,
   "metadata": {},
   "outputs": [],
   "source": [
    "# helper function to yield list of tokens\n",
    "# here data can be `train` or `val` or `test`\n",
    "def yield_tokens(data, language):\n",
    "    language_index = {SRC_LANGUAGE: 0, TRG_LANGUAGE: 1}\n",
    "\n",
    "    for data_sample in data:\n",
    "        yield token_transform[language](data_sample[language_index[language]]) #either first or second index"
   ]
  },
  {
   "cell_type": "markdown",
   "metadata": {},
   "source": [
    "Before we tokenize, let's define some special symbols so our neural network understand the embeddings of these symbols, namely the unknown, the padding, the start of sentence, and end of sentence."
   ]
  },
  {
   "cell_type": "code",
   "execution_count": 108,
   "metadata": {},
   "outputs": [],
   "source": [
    "# Define special symbols and indices\n",
    "UNK_IDX, PAD_IDX, SOS_IDX, EOS_IDX = 0, 1, 2, 3\n",
    "# Make sure the tokens are in order of their indices to properly insert them in vocab\n",
    "special_symbols = ['<unk>', '<pad>', '<sos>', '<eos>']"
   ]
  },
  {
   "cell_type": "markdown",
   "metadata": {
    "tags": []
   },
   "source": [
    "### Text to integers (Numericalization)\n",
    "\n",
    "Next we gonna create function (torchtext called vocabs) that turn these tokens into integers.  Here we use built in factory function <code>build_vocab_from_iterator</code> which accepts iterator that yield list or iterator of tokens."
   ]
  },
  {
   "cell_type": "code",
   "execution_count": 109,
   "metadata": {},
   "outputs": [],
   "source": [
    "from torchtext.vocab import build_vocab_from_iterator\n",
    "\n",
    "for ln in [SRC_LANGUAGE, TRG_LANGUAGE]:\n",
    "    # Create torchtext's Vocab object \n",
    "    vocab_transform[ln] = build_vocab_from_iterator(yield_tokens(train, ln), \n",
    "                                                    min_freq=2,   #if not, everything will be treated as UNK\n",
    "                                                    specials=special_symbols,\n",
    "                                                    special_first=True) #indicates whether to insert symbols at the beginning or at the end                                            \n",
    "# Set UNK_IDX as the default index. This index is returned when the token is not found. \n",
    "# If not set, it throws RuntimeError when the queried token is not found in the Vocabulary. \n",
    "for ln in [SRC_LANGUAGE, TRG_LANGUAGE]:\n",
    "    vocab_transform[ln].set_default_index(UNK_IDX)"
   ]
  },
  {
   "cell_type": "code",
   "execution_count": 110,
   "metadata": {},
   "outputs": [
    {
     "data": {
      "text/plain": [
       "[195, 11, 7, 0, 7]"
      ]
     },
     "execution_count": 110,
     "metadata": {},
     "output_type": "execute_result"
    }
   ],
   "source": [
    "#see some example\n",
    "vocab_transform[SRC_LANGUAGE](['here', 'is', 'a', 'unknownword', 'a'])"
   ]
  },
  {
   "cell_type": "code",
   "execution_count": 111,
   "metadata": {},
   "outputs": [],
   "source": [
    "import pickle\n",
    "\n",
    "pickle.dump(vocab_transform, open('app/models/vocabs.pkl', 'wb'))"
   ]
  },
  {
   "cell_type": "code",
   "execution_count": 112,
   "metadata": {},
   "outputs": [
    {
     "data": {
      "text/plain": [
       "'to'"
      ]
     },
     "execution_count": 112,
     "metadata": {},
     "output_type": "execute_result"
    }
   ],
   "source": [
    "#we can reverse it....\n",
    "mapping = vocab_transform[SRC_LANGUAGE].get_itos()\n",
    "\n",
    "#print 1816, for example\n",
    "mapping[5]"
   ]
  },
  {
   "cell_type": "code",
   "execution_count": 113,
   "metadata": {},
   "outputs": [
    {
     "data": {
      "text/plain": [
       "'<unk>'"
      ]
     },
     "execution_count": 113,
     "metadata": {},
     "output_type": "execute_result"
    }
   ],
   "source": [
    "#let's try unknown vocab\n",
    "mapping[0]\n",
    "#they will all map to <unk> which has 0 as integer"
   ]
  },
  {
   "cell_type": "code",
   "execution_count": 114,
   "metadata": {},
   "outputs": [
    {
     "data": {
      "text/plain": [
       "('<pad>', '<sos>', '<eos>')"
      ]
     },
     "execution_count": 114,
     "metadata": {},
     "output_type": "execute_result"
    }
   ],
   "source": [
    "#let's try special symbols\n",
    "mapping[1], mapping[2], mapping[3]"
   ]
  },
  {
   "cell_type": "code",
   "execution_count": 115,
   "metadata": {},
   "outputs": [
    {
     "data": {
      "text/plain": [
       "7111"
      ]
     },
     "execution_count": 115,
     "metadata": {},
     "output_type": "execute_result"
    }
   ],
   "source": [
    "#check unique vocabularies\n",
    "len(mapping)"
   ]
  },
  {
   "cell_type": "markdown",
   "metadata": {
    "tags": []
   },
   "source": [
    "## 4. Preparing the dataloader\n",
    "\n",
    "One thing we change here is the <code>collate_fn</code> which now also returns the length of sentence.  This is required for <code>packed_padded_sequence</code>"
   ]
  },
  {
   "cell_type": "code",
   "execution_count": 116,
   "metadata": {},
   "outputs": [],
   "source": [
    "from torch.nn.utils.rnn import pad_sequence\n",
    "from torch.utils.data import DataLoader\n",
    "\n",
    "BATCH_SIZE = 128\n",
    "\n",
    "# helper function to club together sequential operations\n",
    "def sequential_transforms(*transforms):\n",
    "    def func(txt_input):\n",
    "        for transform in transforms:\n",
    "            txt_input = transform(txt_input)\n",
    "        return txt_input\n",
    "    return func\n",
    "\n",
    "# function to add BOS/EOS and create tensor for input sequence indices\n",
    "def tensor_transform(token_ids):\n",
    "    return torch.cat((torch.tensor([SOS_IDX]), \n",
    "                      torch.tensor(token_ids), \n",
    "                      torch.tensor([EOS_IDX])))\n",
    "\n",
    "# src and trg language text transforms to convert raw strings into tensors indices\n",
    "text_transform = {}\n",
    "for ln in [SRC_LANGUAGE, TRG_LANGUAGE]:\n",
    "    text_transform[ln] = sequential_transforms(token_transform[ln], #Tokenization\n",
    "                                               vocab_transform[ln], #Numericalization\n",
    "                                               tensor_transform) # Add BOS/EOS and create tensor\n",
    "\n",
    "\n",
    "# function to collate data samples into batch tesors\n",
    "def collate_batch(batch):\n",
    "    src_batch, src_len_batch, trg_batch = [], [], []\n",
    "    for src_sample, trg_sample in batch:\n",
    "        processed_text = text_transform[SRC_LANGUAGE](src_sample.rstrip(\"\\n\"))\n",
    "        src_batch.append(processed_text)\n",
    "        trg_batch.append(text_transform[TRG_LANGUAGE](trg_sample.rstrip(\"\\n\")))\n",
    "        src_len_batch.append(processed_text.size(0))\n",
    "\n",
    "    src_batch = pad_sequence(src_batch, padding_value=PAD_IDX, batch_first = True) #<----need this because we use linear layers mostly\n",
    "    trg_batch = pad_sequence(trg_batch, padding_value=PAD_IDX, batch_first = True)\n",
    "    return src_batch, torch.tensor(src_len_batch, dtype=torch.int64), trg_batch"
   ]
  },
  {
   "cell_type": "markdown",
   "metadata": {},
   "source": [
    "Create train, val, and test dataloaders"
   ]
  },
  {
   "cell_type": "code",
   "execution_count": 117,
   "metadata": {},
   "outputs": [],
   "source": [
    "batch_size = 128\n",
    "\n",
    "train_loader = DataLoader(train, batch_size=batch_size, shuffle=True, collate_fn=collate_batch)\n",
    "valid_loader = DataLoader(val,   batch_size=batch_size, shuffle=False, collate_fn=collate_batch)\n",
    "test_loader  = DataLoader(test,  batch_size=batch_size, shuffle=False, collate_fn=collate_batch)"
   ]
  },
  {
   "cell_type": "markdown",
   "metadata": {},
   "source": [
    "Let's test the train loader."
   ]
  },
  {
   "cell_type": "code",
   "execution_count": 118,
   "metadata": {},
   "outputs": [],
   "source": [
    "for en, _, my in train_loader:\n",
    "    break"
   ]
  },
  {
   "cell_type": "code",
   "execution_count": 119,
   "metadata": {},
   "outputs": [
    {
     "name": "stdout",
     "output_type": "stream",
     "text": [
      "English shape:  torch.Size([128, 37])\n",
      "Burmese shape:  torch.Size([128, 59])\n"
     ]
    }
   ],
   "source": [
    "print(\"English shape: \", en.shape)  # (batch_size, seq len)\n",
    "print(\"Burmese shape: \", my.shape)   # (batch_size, seq len)"
   ]
  },
  {
   "cell_type": "markdown",
   "metadata": {},
   "source": [
    "## 5. Design the model\n",
    "\n",
    "<img src=\"../figures/transformer-encoder.png\" >"
   ]
  },
  {
   "cell_type": "markdown",
   "metadata": {},
   "source": [
    "### Encoder Layer"
   ]
  },
  {
   "cell_type": "code",
   "execution_count": 120,
   "metadata": {},
   "outputs": [],
   "source": [
    "class EncoderLayer(nn.Module):\n",
    "    def __init__(self, hid_dim, n_heads, pf_dim, dropout, device, attn_type):\n",
    "        super().__init__()\n",
    "        self.self_attn_layer_norm = nn.LayerNorm(hid_dim)\n",
    "        self.ff_layer_norm        = nn.LayerNorm(hid_dim)\n",
    "        self.self_attention       = MultiHeadAttentionLayer(hid_dim, n_heads, dropout, device, attn_type)\n",
    "        self.feedforward          = PositionwiseFeedforwardLayer(hid_dim, pf_dim, dropout)\n",
    "        self.dropout              = nn.Dropout(dropout)\n",
    "        \n",
    "    def forward(self, src, src_mask):\n",
    "        #src = [batch size, src len, hid dim]\n",
    "        #src_mask = [batch size, 1, 1, src len]   #if the token is padding, it will be 1, otherwise 0\n",
    "        _src, _ = self.self_attention(src, src, src, src_mask)\n",
    "        src     = self.self_attn_layer_norm(src + self.dropout(_src))\n",
    "        #src: [batch_size, src len, hid dim]\n",
    "        \n",
    "        _src    = self.feedforward(src)\n",
    "        src     = self.ff_layer_norm(src + self.dropout(_src))\n",
    "        #src: [batch_size, src len, hid dim]\n",
    "        \n",
    "        return src"
   ]
  },
  {
   "cell_type": "markdown",
   "metadata": {},
   "source": [
    "### Encoder"
   ]
  },
  {
   "cell_type": "code",
   "execution_count": 121,
   "metadata": {},
   "outputs": [],
   "source": [
    "class Encoder(nn.Module):\n",
    "    def __init__(self, input_dim, hid_dim, n_layers, n_heads, pf_dim, dropout, device, attn_type, max_length = 500):\n",
    "        super().__init__()\n",
    "        self.device = device\n",
    "        self.tok_embedding = nn.Embedding(input_dim, hid_dim)\n",
    "        self.pos_embedding = nn.Embedding(max_length, hid_dim)\n",
    "        self.layers        = nn.ModuleList([EncoderLayer(hid_dim, n_heads, pf_dim, dropout, device, attn_type)\n",
    "                                           for _ in range(n_layers)])\n",
    "        self.dropout       = nn.Dropout(dropout)\n",
    "        self.scale         = torch.sqrt(torch.FloatTensor([hid_dim])).to(self.device)\n",
    "        \n",
    "    def forward(self, src, src_mask):\n",
    "        \n",
    "        #src = [batch size, src len]\n",
    "        #src_mask = [batch size, 1, 1, src len]\n",
    "        \n",
    "        batch_size = src.shape[0]\n",
    "        src_len    = src.shape[1]\n",
    "        \n",
    "        pos        = torch.arange(0, src_len).unsqueeze(0).repeat(batch_size, 1).to(self.device)\n",
    "        #pos: [batch_size, src_len]\n",
    "        \n",
    "        src        = self.dropout((self.tok_embedding(src) * self.scale) + self.pos_embedding(pos))\n",
    "        #src: [batch_size, src_len, hid_dim]\n",
    "        \n",
    "        for layer in self.layers:\n",
    "            src = layer(src, src_mask)\n",
    "        #src: [batch_size, src_len, hid_dim]\n",
    "        \n",
    "        return src\n",
    "            "
   ]
  },
  {
   "cell_type": "markdown",
   "metadata": {},
   "source": [
    "### Mutli Head Attention Layer\n",
    "\n",
    "<img src = \"../figures/transformer-attention.png\" width=\"700\">\n",
    "\n",
    "$$ \\text{Attention}(Q, K, V) = \\text{Softmax} \\big( \\frac{QK^T}{\\sqrt{d_k}} \\big)V $$ "
   ]
  },
  {
   "cell_type": "code",
   "execution_count": 122,
   "metadata": {},
   "outputs": [],
   "source": [
    "class MultiHeadAttentionLayer(nn.Module):\n",
    "    def __init__(self, hid_dim, n_heads, dropout, device, attn_type):\n",
    "        super().__init__()\n",
    "        assert hid_dim % n_heads == 0\n",
    "        self.hid_dim  = hid_dim\n",
    "        self.n_heads  = n_heads\n",
    "        self.head_dim = hid_dim // n_heads\n",
    "        self.attn_type = attn_type\n",
    "        \n",
    "        self.fc_q     = nn.Linear(hid_dim, hid_dim)\n",
    "        self.fc_k     = nn.Linear(hid_dim, hid_dim)\n",
    "        self.fc_v     = nn.Linear(hid_dim, hid_dim)\n",
    "        \n",
    "        self.fc_o     = nn.Linear(hid_dim, hid_dim)\n",
    "                \n",
    "        # Additive attention parameters\n",
    "        if self.attn_type == 'additive':\n",
    "            self.W_q = nn.Linear(self.head_dim, self.head_dim)\n",
    "            self.W_k = nn.Linear(self.head_dim, self.head_dim)\n",
    "            self.v = nn.Linear(self.head_dim, 1)\n",
    "        \n",
    "        # Cosine attention parameter\n",
    "        if self.attn_type == 'multiplicative':\n",
    "            self.temperature = nn.Parameter(torch.ones(1))\n",
    "            \n",
    "        self.dropout  = nn.Dropout(dropout)\n",
    "        \n",
    "        self.scale    = torch.sqrt(torch.FloatTensor([self.head_dim])).to(device)\n",
    "                \n",
    "    def forward(self, query, key, value, mask = None):\n",
    "        #src, src, src, src_mask\n",
    "        #query = [batch size, query len, hid dim]\n",
    "        #key = [batch size, key len, hid dim]\n",
    "        #value = [batch size, value len, hid dim]\n",
    "        \n",
    "        batch_size = query.shape[0]\n",
    "        \n",
    "        Q = self.fc_q(query)\n",
    "        K = self.fc_k(key)\n",
    "        V = self.fc_v(value)\n",
    "        #Q=K=V: [batch_size, src len, hid_dim]\n",
    "        \n",
    "        Q = Q.view(batch_size, -1, self.n_heads, self.head_dim).permute(0, 2, 1, 3)\n",
    "        K = K.view(batch_size, -1, self.n_heads, self.head_dim).permute(0, 2, 1, 3)\n",
    "        V = V.view(batch_size, -1, self.n_heads, self.head_dim).permute(0, 2, 1, 3)\n",
    "        #Q = [batch_size, n heads, query len, head_dim]\n",
    "        \n",
    "        # Calculate attention scores\n",
    "        if self.attn_type == 'general':\n",
    "            energy = torch.matmul(Q, K.transpose(-2, -1)) / self.scale\n",
    "            \n",
    "        elif self.attn_type == 'additive':\n",
    "            q_trans = self.W_q(Q).unsqueeze(3) # [batch, heads, q_len, 1, dim]\n",
    "            k_trans = self.W_k(K).unsqueeze(2) # [batch, heads, 1, k_len, dim]\n",
    "            energy = self.v(torch.tanh(q_trans + k_trans)).squeeze(-1) # Shape: [batch, heads, q_len, k_len]\n",
    "            \n",
    "        elif self.attn_type == 'multiplicative':\n",
    "            Q_norm = Q / (Q.norm(dim=-1, keepdim=True) + 1e-8)\n",
    "            K_norm = K / (K.norm(dim=-1, keepdim=True) + 1e-8)\n",
    "            energy = self.temperature * torch.matmul(Q_norm, K_norm.transpose(-2, -1))\n",
    "            # Q_norm = self.fc_q(Q) / self.scale\n",
    "            # K_norm = self.fc_k(K)\n",
    "            # energy = torch.matmul(Q_norm, K_norm.transpose(-2, -1))\n",
    "            # Multiplicative attention: e_i = s^T W h_i\n",
    "\n",
    "        else:\n",
    "            raise ValueError(f\"Unknown attention type: {self.attn_type}\")\n",
    "        \n",
    "        #q = self.W(Q)\n",
    "        #k = self.U(K)\n",
    "\n",
    "        # # e = v ( tanh( W(Q) + U(K) ) )\n",
    "        # energy = self.v(torch.tanh(q + k)) / self.scale\n",
    "        # #energy = [batch_size, n heads, query len, key len, 1]\n",
    "\n",
    "        # energy = energy.squeeze(4)\n",
    "        # #energy = [batch_size, n heads, query len, key len]\n",
    "                \n",
    "        #for making attention to padding to 0\n",
    "        if mask is not None:\n",
    "            energy = energy.masked_fill(mask == 0, -1e10)\n",
    "            \n",
    "        attention = torch.softmax(energy, dim = -1)\n",
    "        #attention = [batch_size, n heads, query len, key len]\n",
    "        \n",
    "        x = torch.matmul(self.dropout(attention), V)\n",
    "        #[batch_size, n heads, query len, key len] @ [batch_size, n heads, value len, head_dim]\n",
    "        #x = [batch_size, n heads, query len, head dim]\n",
    "        \n",
    "        x = x.permute(0, 2, 1, 3).contiguous()  #we can perform .view\n",
    "        #x = [batch_size, query len, n heads, head dim]\n",
    "        \n",
    "        x = x.view(batch_size, -1, self.hid_dim)\n",
    "        #x = [batch_size, query len, hid dim]\n",
    "        \n",
    "        x = self.fc_o(x)\n",
    "        #x = [batch_size, query len, hid dim]\n",
    "        \n",
    "        return x, attention\n",
    "        "
   ]
  },
  {
   "cell_type": "markdown",
   "metadata": {},
   "source": [
    "### Position-wise Feedforward Layer"
   ]
  },
  {
   "cell_type": "code",
   "execution_count": 123,
   "metadata": {},
   "outputs": [],
   "source": [
    "class PositionwiseFeedforwardLayer(nn.Module):\n",
    "    def __init__(self, hid_dim, pf_dim, dropout):\n",
    "        super().__init__()\n",
    "        self.fc1 = nn.Linear(hid_dim, pf_dim)\n",
    "        self.fc2 = nn.Linear(pf_dim, hid_dim)\n",
    "        self.dropout = nn.Dropout(dropout)\n",
    "        \n",
    "    def forward(self, x):\n",
    "        #x = [batch size, src len, hid dim]\n",
    "        x = self.dropout(torch.relu(self.fc1(x)))\n",
    "        x = self.fc2(x)\n",
    "        \n",
    "        return x"
   ]
  },
  {
   "cell_type": "markdown",
   "metadata": {
    "tags": []
   },
   "source": [
    "### Decoder Layer\n",
    "\n",
    "<img src = \"../figures/transformer-decoder.png\" >"
   ]
  },
  {
   "cell_type": "code",
   "execution_count": 124,
   "metadata": {},
   "outputs": [],
   "source": [
    "class DecoderLayer(nn.Module):\n",
    "    def __init__(self, hid_dim, n_heads, pf_dim, dropout, device, attn_type):\n",
    "        super().__init__()\n",
    "        self.self_attn_layer_norm = nn.LayerNorm(hid_dim)\n",
    "        self.enc_attn_layer_norm  = nn.LayerNorm(hid_dim)\n",
    "        self.ff_layer_norm        = nn.LayerNorm(hid_dim)\n",
    "        self.self_attention       = MultiHeadAttentionLayer(hid_dim, n_heads, dropout, device, attn_type)\n",
    "        self.encoder_attention    = MultiHeadAttentionLayer(hid_dim, n_heads, dropout, device, attn_type)\n",
    "        self.feedforward          = PositionwiseFeedforwardLayer(hid_dim, pf_dim, dropout)\n",
    "        self.dropout              = nn.Dropout(dropout)\n",
    "        \n",
    "    def forward(self, trg, enc_src, trg_mask, src_mask):\n",
    "        \n",
    "        #trg = [batch size, trg len, hid dim]\n",
    "        #enc_src = [batch size, src len, hid dim]\n",
    "        #trg_mask = [batch size, 1, trg len, trg len]\n",
    "        #src_mask = [batch size, 1, 1, src len]\n",
    "        \n",
    "        _trg, _ = self.self_attention(trg, trg, trg, trg_mask)\n",
    "        trg     = self.self_attn_layer_norm(trg + self.dropout(_trg))\n",
    "        #trg = [batch_size, trg len, hid dim]\n",
    "        \n",
    "        _trg, attention = self.encoder_attention(trg, enc_src, enc_src, src_mask)\n",
    "        trg             = self.enc_attn_layer_norm(trg + self.dropout(_trg))\n",
    "        #trg = [batch_size, trg len, hid dim]\n",
    "        #attention = [batch_size, n heads, trg len, src len]\n",
    "        \n",
    "        _trg = self.feedforward(trg)\n",
    "        trg  = self.ff_layer_norm(trg + self.dropout(_trg))\n",
    "        #trg = [batch_size, trg len, hid dim]\n",
    "        \n",
    "        return trg, attention"
   ]
  },
  {
   "cell_type": "markdown",
   "metadata": {},
   "source": [
    "### Decoder"
   ]
  },
  {
   "cell_type": "code",
   "execution_count": 125,
   "metadata": {},
   "outputs": [],
   "source": [
    "class Decoder(nn.Module):\n",
    "    def __init__(self, output_dim, hid_dim, n_layers, n_heads, \n",
    "                 pf_dim, dropout, device, attn_type, max_length = 500):\n",
    "        super().__init__()\n",
    "        self.device = device\n",
    "        self.tok_embedding = nn.Embedding(output_dim, hid_dim)\n",
    "        self.pos_embedding = nn.Embedding(max_length, hid_dim)\n",
    "        self.layers        = nn.ModuleList([DecoderLayer(hid_dim, n_heads, pf_dim, dropout, device, attn_type)\n",
    "                                            for _ in range(n_layers)])\n",
    "        self.fc_out        = nn.Linear(hid_dim, output_dim)\n",
    "        self.dropout       = nn.Dropout(dropout)\n",
    "        self.scale         = torch.sqrt(torch.FloatTensor([hid_dim])).to(device)\n",
    "        \n",
    "    def forward(self, trg, enc_src, trg_mask, src_mask):\n",
    "        \n",
    "        #trg = [batch size, trg len]\n",
    "        #enc_src = [batch size, src len, hid dim]\n",
    "        #trg_mask = [batch size, 1, trg len, trg len]\n",
    "        #src_mask = [batch size, 1, 1, src len]\n",
    "        \n",
    "        batch_size = trg.shape[0]\n",
    "        trg_len    = trg.shape[1]\n",
    "        \n",
    "        pos = torch.arange(0, trg_len).unsqueeze(0).repeat(batch_size, 1).to(self.device)\n",
    "        #pos: [batch_size, trg len]\n",
    "        \n",
    "        trg = self.dropout((self.tok_embedding(trg) * self.scale) + self.pos_embedding(pos))\n",
    "        #trg: [batch_size, trg len, hid dim]\n",
    "        \n",
    "        for layer in self.layers:\n",
    "            trg, attention = layer(trg, enc_src, trg_mask, src_mask)\n",
    "            \n",
    "        #trg: [batch_size, trg len, hid dim]\n",
    "        #attention: [batch_size, n heads, trg len, src len]\n",
    "        \n",
    "        output = self.fc_out(trg)\n",
    "        #output = [batch_size, trg len, output_dim]\n",
    "        \n",
    "        return output, attention"
   ]
  },
  {
   "cell_type": "markdown",
   "metadata": {},
   "source": [
    "### Putting them together (become Seq2Seq!)\n",
    "\n",
    "Our `trg_sub_mask` will look something like this (for a target with 5 tokens):\n",
    "\n",
    "$$\\begin{matrix}\n",
    "1 & 0 & 0 & 0 & 0\\\\\n",
    "1 & 1 & 0 & 0 & 0\\\\\n",
    "1 & 1 & 1 & 0 & 0\\\\\n",
    "1 & 1 & 1 & 1 & 0\\\\\n",
    "1 & 1 & 1 & 1 & 1\\\\\n",
    "\\end{matrix}$$\n",
    "\n",
    "The \"subsequent\" mask is then logically anded with the padding mask, this combines the two masks ensuring both the subsequent tokens and the padding tokens cannot be attended to. For example if the last two tokens were `<pad>` tokens the mask would look like:\n",
    "\n",
    "$$\\begin{matrix}\n",
    "1 & 0 & 0 & 0 & 0\\\\\n",
    "1 & 1 & 0 & 0 & 0\\\\\n",
    "1 & 1 & 1 & 0 & 0\\\\\n",
    "1 & 1 & 1 & 0 & 0\\\\\n",
    "1 & 1 & 1 & 0 & 0\\\\\n",
    "\\end{matrix}$$"
   ]
  },
  {
   "cell_type": "code",
   "execution_count": 126,
   "metadata": {},
   "outputs": [],
   "source": [
    "class Seq2SeqTransformer(nn.Module):\n",
    "    def __init__(self, encoder, decoder, src_pad_idx, trg_pad_idx, device):\n",
    "        super().__init__()\n",
    "        \n",
    "        self.encoder = encoder\n",
    "        self.decoder = decoder\n",
    "        self.src_pad_idx = src_pad_idx\n",
    "        self.trg_pad_idx = trg_pad_idx\n",
    "        self.device = device\n",
    "        \n",
    "    def make_src_mask(self, src):\n",
    "        \n",
    "        #src = [batch size, src len]\n",
    "        \n",
    "        src_mask = (src != self.src_pad_idx).unsqueeze(1).unsqueeze(2)\n",
    "        #src_mask = [batch size, 1, 1, src len]\n",
    "\n",
    "        return src_mask\n",
    "    \n",
    "    def make_trg_mask(self, trg):\n",
    "        \n",
    "        #trg = [batch size, trg len]\n",
    "        \n",
    "        trg_pad_mask = (trg != self.trg_pad_idx).unsqueeze(1).unsqueeze(2)\n",
    "        #trg_pad_mask = [batch size, 1, 1, trg len]\n",
    "        \n",
    "        trg_len = trg.shape[1]\n",
    "        \n",
    "        trg_sub_mask = torch.tril(torch.ones((trg_len, trg_len), device = self.device)).bool()\n",
    "        #trg_sub_mask = [trg len, trg len]\n",
    "            \n",
    "        trg_mask = trg_pad_mask & trg_sub_mask\n",
    "        #trg_mask = [batch size, 1, trg len, trg len]\n",
    "        \n",
    "        return trg_mask\n",
    "\n",
    "    def forward(self, src, trg):\n",
    "        \n",
    "        #src = [batch size, src len]\n",
    "        #trg = [batch size, trg len]\n",
    "                \n",
    "        src_mask = self.make_src_mask(src)\n",
    "        trg_mask = self.make_trg_mask(trg)\n",
    "        \n",
    "        #src_mask = [batch size, 1, 1, src len]\n",
    "        #trg_mask = [batch size, 1, trg len, trg len]\n",
    "        \n",
    "        enc_src = self.encoder(src, src_mask)\n",
    "        #enc_src = [batch size, src len, hid dim]\n",
    "                \n",
    "        output, attention = self.decoder(trg, enc_src, trg_mask, src_mask)\n",
    "        \n",
    "        #output = [batch size, trg len, output dim]\n",
    "        #attention = [batch size, n heads, trg len, src len]\n",
    "        \n",
    "        return output, attention"
   ]
  },
  {
   "cell_type": "markdown",
   "metadata": {
    "tags": []
   },
   "source": [
    "## 6. Training"
   ]
  },
  {
   "cell_type": "code",
   "execution_count": 127,
   "metadata": {},
   "outputs": [],
   "source": [
    "def initialize_weights(m):\n",
    "    if hasattr(m, 'weight') and m.weight.dim() > 1:\n",
    "        nn.init.xavier_uniform_(m.weight.data)"
   ]
  },
  {
   "cell_type": "code",
   "execution_count": 128,
   "metadata": {},
   "outputs": [],
   "source": [
    "def initialize_model(attention_type):\n",
    "    INPUT_DIM = len(vocab_transform[SRC_LANGUAGE])\n",
    "    OUTPUT_DIM = len(vocab_transform[TRG_LANGUAGE])\n",
    "    HID_DIM = 256\n",
    "    ENC_LAYERS = 3\n",
    "    DEC_LAYERS = 3\n",
    "    ENC_HEADS = 8\n",
    "    DEC_HEADS = 8\n",
    "    ENC_PF_DIM = 512\n",
    "    DEC_PF_DIM = 512\n",
    "    ENC_DROPOUT = 0.1\n",
    "    DEC_DROPOUT = 0.1\n",
    "    \n",
    "    enc = Encoder(INPUT_DIM, \n",
    "                  HID_DIM, \n",
    "                  ENC_LAYERS, \n",
    "                  ENC_HEADS, \n",
    "                  ENC_PF_DIM, \n",
    "                  ENC_DROPOUT, \n",
    "                  device,\n",
    "                  attention_type)\n",
    "    \n",
    "    dec = Decoder(OUTPUT_DIM, \n",
    "                  HID_DIM, \n",
    "                  DEC_LAYERS, \n",
    "                  DEC_HEADS, \n",
    "                  DEC_PF_DIM, \n",
    "                  DEC_DROPOUT, \n",
    "                  device,\n",
    "                  attention_type)\n",
    "    \n",
    "    SRC_PAD_IDX = PAD_IDX\n",
    "    TRG_PAD_IDX = PAD_IDX\n",
    "    \n",
    "    model = Seq2SeqTransformer(enc, dec, SRC_PAD_IDX, TRG_PAD_IDX, device).to(device)\n",
    "    model.apply(initialize_weights)\n",
    "\n",
    "    return model"
   ]
  },
  {
   "cell_type": "code",
   "execution_count": 129,
   "metadata": {},
   "outputs": [],
   "source": [
    "# input_dim   = len(vocab_transform[SRC_LANGUAGE])\n",
    "# output_dim  = len(vocab_transform[TRG_LANGUAGE])\n",
    "# hid_dim = 256\n",
    "# enc_layers = 3\n",
    "# dec_layers = 3\n",
    "# enc_heads = 8\n",
    "# dec_heads = 8\n",
    "# enc_pf_dim = 512\n",
    "# dec_pf_dim = 512\n",
    "# enc_dropout = 0.1\n",
    "# dec_dropout = 0.1\n",
    "\n",
    "# SRC_PAD_IDX = PAD_IDX\n",
    "# TRG_PAD_IDX = PAD_IDX\n",
    "\n",
    "# enc = Encoder(input_dim, \n",
    "#               hid_dim, \n",
    "#               enc_layers, \n",
    "#               enc_heads, \n",
    "#               enc_pf_dim, \n",
    "#               enc_dropout, \n",
    "#               device)\n",
    "\n",
    "# dec = Decoder(output_dim, \n",
    "#               hid_dim, \n",
    "#               dec_layers, \n",
    "#               dec_heads, \n",
    "#               dec_pf_dim, \n",
    "#               enc_dropout, \n",
    "#               device)\n",
    "\n",
    "# model = Seq2SeqTransformer(enc, dec, SRC_PAD_IDX, TRG_PAD_IDX, device).to(device)\n",
    "# model.apply(initialize_weights)"
   ]
  },
  {
   "cell_type": "code",
   "execution_count": 130,
   "metadata": {},
   "outputs": [],
   "source": [
    "#we can print the complexity by the number of parameters\n",
    "def count_parameters(model):\n",
    "    params = [p.numel() for p in model.parameters() if p.requires_grad]\n",
    "    for item in params:\n",
    "        print(f'{item:>6}')\n",
    "    print(f'______\\n{sum(params):>6}')"
   ]
  },
  {
   "cell_type": "markdown",
   "metadata": {},
   "source": [
    "### General Attention"
   ]
  },
  {
   "cell_type": "code",
   "execution_count": 131,
   "metadata": {},
   "outputs": [
    {
     "name": "stdout",
     "output_type": "stream",
     "text": [
      "1820416\n",
      "128000\n",
      "   256\n",
      "   256\n",
      "   256\n",
      "   256\n",
      " 65536\n",
      "   256\n",
      " 65536\n",
      "   256\n",
      " 65536\n",
      "   256\n",
      " 65536\n",
      "   256\n",
      "131072\n",
      "   512\n",
      "131072\n",
      "   256\n",
      "   256\n",
      "   256\n",
      "   256\n",
      "   256\n",
      " 65536\n",
      "   256\n",
      " 65536\n",
      "   256\n",
      " 65536\n",
      "   256\n",
      " 65536\n",
      "   256\n",
      "131072\n",
      "   512\n",
      "131072\n",
      "   256\n",
      "   256\n",
      "   256\n",
      "   256\n",
      "   256\n",
      " 65536\n",
      "   256\n",
      " 65536\n",
      "   256\n",
      " 65536\n",
      "   256\n",
      " 65536\n",
      "   256\n",
      "131072\n",
      "   512\n",
      "131072\n",
      "   256\n",
      "1036288\n",
      "128000\n",
      "   256\n",
      "   256\n",
      "   256\n",
      "   256\n",
      "   256\n",
      "   256\n",
      " 65536\n",
      "   256\n",
      " 65536\n",
      "   256\n",
      " 65536\n",
      "   256\n",
      " 65536\n",
      "   256\n",
      " 65536\n",
      "   256\n",
      " 65536\n",
      "   256\n",
      " 65536\n",
      "   256\n",
      " 65536\n",
      "   256\n",
      "131072\n",
      "   512\n",
      "131072\n",
      "   256\n",
      "   256\n",
      "   256\n",
      "   256\n",
      "   256\n",
      "   256\n",
      "   256\n",
      " 65536\n",
      "   256\n",
      " 65536\n",
      "   256\n",
      " 65536\n",
      "   256\n",
      " 65536\n",
      "   256\n",
      " 65536\n",
      "   256\n",
      " 65536\n",
      "   256\n",
      " 65536\n",
      "   256\n",
      " 65536\n",
      "   256\n",
      "131072\n",
      "   512\n",
      "131072\n",
      "   256\n",
      "   256\n",
      "   256\n",
      "   256\n",
      "   256\n",
      "   256\n",
      "   256\n",
      " 65536\n",
      "   256\n",
      " 65536\n",
      "   256\n",
      " 65536\n",
      "   256\n",
      " 65536\n",
      "   256\n",
      " 65536\n",
      "   256\n",
      " 65536\n",
      "   256\n",
      " 65536\n",
      "   256\n",
      " 65536\n",
      "   256\n",
      "131072\n",
      "   512\n",
      "131072\n",
      "   256\n",
      "1036288\n",
      "  4048\n",
      "______\n",
      "8106704\n"
     ]
    }
   ],
   "source": [
    "general_model = initialize_model('general')\n",
    "    \n",
    "count_parameters(general_model)"
   ]
  },
  {
   "cell_type": "markdown",
   "metadata": {},
   "source": [
    "### Multiplicative Attention"
   ]
  },
  {
   "cell_type": "code",
   "execution_count": 132,
   "metadata": {},
   "outputs": [
    {
     "name": "stdout",
     "output_type": "stream",
     "text": [
      "1820416\n",
      "128000\n",
      "   256\n",
      "   256\n",
      "   256\n",
      "   256\n",
      "     1\n",
      " 65536\n",
      "   256\n",
      " 65536\n",
      "   256\n",
      " 65536\n",
      "   256\n",
      " 65536\n",
      "   256\n",
      "131072\n",
      "   512\n",
      "131072\n",
      "   256\n",
      "   256\n",
      "   256\n",
      "   256\n",
      "   256\n",
      "     1\n",
      " 65536\n",
      "   256\n",
      " 65536\n",
      "   256\n",
      " 65536\n",
      "   256\n",
      " 65536\n",
      "   256\n",
      "131072\n",
      "   512\n",
      "131072\n",
      "   256\n",
      "   256\n",
      "   256\n",
      "   256\n",
      "   256\n",
      "     1\n",
      " 65536\n",
      "   256\n",
      " 65536\n",
      "   256\n",
      " 65536\n",
      "   256\n",
      " 65536\n",
      "   256\n",
      "131072\n",
      "   512\n",
      "131072\n",
      "   256\n",
      "1036288\n",
      "128000\n",
      "   256\n",
      "   256\n",
      "   256\n",
      "   256\n",
      "   256\n",
      "   256\n",
      "     1\n",
      " 65536\n",
      "   256\n",
      " 65536\n",
      "   256\n",
      " 65536\n",
      "   256\n",
      " 65536\n",
      "   256\n",
      "     1\n",
      " 65536\n",
      "   256\n",
      " 65536\n",
      "   256\n",
      " 65536\n",
      "   256\n",
      " 65536\n",
      "   256\n",
      "131072\n",
      "   512\n",
      "131072\n",
      "   256\n",
      "   256\n",
      "   256\n",
      "   256\n",
      "   256\n",
      "   256\n",
      "   256\n",
      "     1\n",
      " 65536\n",
      "   256\n",
      " 65536\n",
      "   256\n",
      " 65536\n",
      "   256\n",
      " 65536\n",
      "   256\n",
      "     1\n",
      " 65536\n",
      "   256\n",
      " 65536\n",
      "   256\n",
      " 65536\n",
      "   256\n",
      " 65536\n",
      "   256\n",
      "131072\n",
      "   512\n",
      "131072\n",
      "   256\n",
      "   256\n",
      "   256\n",
      "   256\n",
      "   256\n",
      "   256\n",
      "   256\n",
      "     1\n",
      " 65536\n",
      "   256\n",
      " 65536\n",
      "   256\n",
      " 65536\n",
      "   256\n",
      " 65536\n",
      "   256\n",
      "     1\n",
      " 65536\n",
      "   256\n",
      " 65536\n",
      "   256\n",
      " 65536\n",
      "   256\n",
      " 65536\n",
      "   256\n",
      "131072\n",
      "   512\n",
      "131072\n",
      "   256\n",
      "1036288\n",
      "  4048\n",
      "______\n",
      "8106713\n"
     ]
    }
   ],
   "source": [
    "multi_model = initialize_model('multiplicative')\n",
    "    \n",
    "count_parameters(multi_model)"
   ]
  },
  {
   "cell_type": "markdown",
   "metadata": {},
   "source": [
    "### Additive Attention"
   ]
  },
  {
   "cell_type": "code",
   "execution_count": 133,
   "metadata": {},
   "outputs": [
    {
     "name": "stdout",
     "output_type": "stream",
     "text": [
      "1820416\n",
      "128000\n",
      "   256\n",
      "   256\n",
      "   256\n",
      "   256\n",
      " 65536\n",
      "   256\n",
      " 65536\n",
      "   256\n",
      " 65536\n",
      "   256\n",
      " 65536\n",
      "   256\n",
      "  1024\n",
      "    32\n",
      "  1024\n",
      "    32\n",
      "    32\n",
      "     1\n",
      "131072\n",
      "   512\n",
      "131072\n",
      "   256\n",
      "   256\n",
      "   256\n",
      "   256\n",
      "   256\n",
      " 65536\n",
      "   256\n",
      " 65536\n",
      "   256\n",
      " 65536\n",
      "   256\n",
      " 65536\n",
      "   256\n",
      "  1024\n",
      "    32\n",
      "  1024\n",
      "    32\n",
      "    32\n",
      "     1\n",
      "131072\n",
      "   512\n",
      "131072\n",
      "   256\n",
      "   256\n",
      "   256\n",
      "   256\n",
      "   256\n",
      " 65536\n",
      "   256\n",
      " 65536\n",
      "   256\n",
      " 65536\n",
      "   256\n",
      " 65536\n",
      "   256\n",
      "  1024\n",
      "    32\n",
      "  1024\n",
      "    32\n",
      "    32\n",
      "     1\n",
      "131072\n",
      "   512\n",
      "131072\n",
      "   256\n",
      "1036288\n",
      "128000\n",
      "   256\n",
      "   256\n",
      "   256\n",
      "   256\n",
      "   256\n",
      "   256\n",
      " 65536\n",
      "   256\n",
      " 65536\n",
      "   256\n",
      " 65536\n",
      "   256\n",
      " 65536\n",
      "   256\n",
      "  1024\n",
      "    32\n",
      "  1024\n",
      "    32\n",
      "    32\n",
      "     1\n",
      " 65536\n",
      "   256\n",
      " 65536\n",
      "   256\n",
      " 65536\n",
      "   256\n",
      " 65536\n",
      "   256\n",
      "  1024\n",
      "    32\n",
      "  1024\n",
      "    32\n",
      "    32\n",
      "     1\n",
      "131072\n",
      "   512\n",
      "131072\n",
      "   256\n",
      "   256\n",
      "   256\n",
      "   256\n",
      "   256\n",
      "   256\n",
      "   256\n",
      " 65536\n",
      "   256\n",
      " 65536\n",
      "   256\n",
      " 65536\n",
      "   256\n",
      " 65536\n",
      "   256\n",
      "  1024\n",
      "    32\n",
      "  1024\n",
      "    32\n",
      "    32\n",
      "     1\n",
      " 65536\n",
      "   256\n",
      " 65536\n",
      "   256\n",
      " 65536\n",
      "   256\n",
      " 65536\n",
      "   256\n",
      "  1024\n",
      "    32\n",
      "  1024\n",
      "    32\n",
      "    32\n",
      "     1\n",
      "131072\n",
      "   512\n",
      "131072\n",
      "   256\n",
      "   256\n",
      "   256\n",
      "   256\n",
      "   256\n",
      "   256\n",
      "   256\n",
      " 65536\n",
      "   256\n",
      " 65536\n",
      "   256\n",
      " 65536\n",
      "   256\n",
      " 65536\n",
      "   256\n",
      "  1024\n",
      "    32\n",
      "  1024\n",
      "    32\n",
      "    32\n",
      "     1\n",
      " 65536\n",
      "   256\n",
      " 65536\n",
      "   256\n",
      " 65536\n",
      "   256\n",
      " 65536\n",
      "   256\n",
      "  1024\n",
      "    32\n",
      "  1024\n",
      "    32\n",
      "    32\n",
      "     1\n",
      "131072\n",
      "   512\n",
      "131072\n",
      "   256\n",
      "1036288\n",
      "  4048\n",
      "______\n",
      "8126009\n"
     ]
    }
   ],
   "source": [
    "add_model = initialize_model('additive')\n",
    "    \n",
    "count_parameters(add_model)"
   ]
  },
  {
   "cell_type": "code",
   "execution_count": 134,
   "metadata": {},
   "outputs": [],
   "source": [
    "import torch.optim as optim\n",
    "\n",
    "lr = 0.0005\n",
    "\n",
    "#training hyperparameters\n",
    "general_optimizer = optim.Adam(general_model.parameters(), lr=lr)\n",
    "general_criterion = nn.CrossEntropyLoss(ignore_index = PAD_IDX) #combine softmax with cross entropy\n",
    "\n",
    "multi_optimizer = optim.Adam(multi_model.parameters(), lr=lr)\n",
    "multi_criterion = nn.CrossEntropyLoss(ignore_index = PAD_IDX) #combine softmax with cross entropy\n",
    "\n",
    "add_optimizer = optim.Adam(add_model.parameters(), lr=lr)\n",
    "add_criterion = nn.CrossEntropyLoss(ignore_index = PAD_IDX) #combine softmax with cross entropy"
   ]
  },
  {
   "cell_type": "markdown",
   "metadata": {},
   "source": [
    "Then, we'll define our training loop. This is the exact same as the one used in the previous tutorial.\n",
    "\n",
    "As we want our model to predict the `<eos>` token but not have it be an input into our model we simply slice the `<eos>` token off the end of the sequence. Thus:\n",
    "\n",
    "$$\\begin{align*}\n",
    "\\text{trg} &= [sos, x_1, x_2, x_3, eos]\\\\\n",
    "\\text{trg[:-1]} &= [sos, x_1, x_2, x_3]\n",
    "\\end{align*}$$\n",
    "\n",
    "$x_i$ denotes actual target sequence element. We then feed this into the model to get a predicted sequence that should hopefully predict the `<eos>` token:\n",
    "\n",
    "$$\\begin{align*}\n",
    "\\text{output} &= [y_1, y_2, y_3, eos]\n",
    "\\end{align*}$$\n",
    "\n",
    "$y_i$ denotes predicted target sequence element. We then calculate our loss using the original `trg` tensor with the `<sos>` token sliced off the front, leaving the `<eos>` token:\n",
    "\n",
    "$$\\begin{align*}\n",
    "\\text{output} &= [y_1, y_2, y_3, eos]\\\\\n",
    "\\text{trg[1:]} &= [x_1, x_2, x_3, eos]\n",
    "\\end{align*}$$\n",
    "\n",
    "We then calculate our losses and update our parameters as is standard."
   ]
  },
  {
   "cell_type": "code",
   "execution_count": 135,
   "metadata": {},
   "outputs": [],
   "source": [
    "def train(model, loader, optimizer, criterion, clip, loader_length):\n",
    "    \n",
    "    model.train()\n",
    "    \n",
    "    epoch_loss = 0\n",
    "    \n",
    "    for src, src_len, trg in loader:\n",
    "        \n",
    "        src = src.to(device)\n",
    "        trg = trg.to(device)\n",
    "        \n",
    "        optimizer.zero_grad()\n",
    "        \n",
    "        #trg[:, :-1] remove the eos, e.g., \"<sos> I love sushi\" since teaching forcing, the input does not need to have eos\n",
    "        output, _ = model(src, trg[:,:-1])\n",
    "                \n",
    "        #output = [batch size, trg len - 1, output dim]\n",
    "        #trg    = [batch size, trg len]\n",
    "            \n",
    "        output_dim = output.shape[-1]\n",
    "            \n",
    "        output = output.reshape(-1, output_dim)\n",
    "        trg = trg[:,1:].reshape(-1) #trg[:, 1:] remove the sos, e.g., \"i love sushi <eos>\" since in teaching forcing, the output does not have sos\n",
    "                \n",
    "        #output = [batch size * trg len - 1, output dim]\n",
    "        #trg    = [batch size * trg len - 1]\n",
    "            \n",
    "        loss = criterion(output, trg)\n",
    "        \n",
    "        loss.backward()\n",
    "        \n",
    "        torch.nn.utils.clip_grad_norm_(model.parameters(), clip)\n",
    "        \n",
    "        optimizer.step()\n",
    "        \n",
    "        epoch_loss += loss.item()\n",
    "        \n",
    "    return epoch_loss / loader_length"
   ]
  },
  {
   "cell_type": "markdown",
   "metadata": {},
   "source": [
    "Our evaluation loop is similar to our training loop, however as we aren't updating any parameters we don't need to pass an optimizer or a clip value."
   ]
  },
  {
   "cell_type": "code",
   "execution_count": 136,
   "metadata": {},
   "outputs": [],
   "source": [
    "def evaluate(model, loader, criterion, loader_length):\n",
    "    \n",
    "    model.eval()\n",
    "    \n",
    "    epoch_loss = 0\n",
    "    \n",
    "    with torch.no_grad():\n",
    "    \n",
    "        for src, src_len, trg in loader:\n",
    "        \n",
    "            src = src.to(device)\n",
    "            trg = trg.to(device)\n",
    "\n",
    "            output, _ = model(src, trg[:,:-1])\n",
    "            \n",
    "            #output = [batch size, trg len - 1, output dim]\n",
    "            #trg = [batch size, trg len]\n",
    "            \n",
    "            output_dim = output.shape[-1]\n",
    "            \n",
    "            output = output.contiguous().view(-1, output_dim)\n",
    "            trg = trg[:,1:].contiguous().view(-1)\n",
    "            \n",
    "            #output = [batch size * trg len - 1, output dim]\n",
    "            #trg = [batch size * trg len - 1]\n",
    "            \n",
    "            loss = criterion(output, trg)\n",
    "\n",
    "            epoch_loss += loss.item()\n",
    "        \n",
    "    return epoch_loss / loader_length"
   ]
  },
  {
   "cell_type": "markdown",
   "metadata": {},
   "source": [
    "### Putting everything together\n",
    "\n",
    "Finally, we train our actual model. This model is almost 3x faster than the convolutional sequence-to-sequence model and also achieves a lower validation perplexity!"
   ]
  },
  {
   "cell_type": "code",
   "execution_count": 137,
   "metadata": {},
   "outputs": [],
   "source": [
    "train_loader_length = len(list(iter(train_loader)))\n",
    "val_loader_length   = len(list(iter(valid_loader)))\n",
    "test_loader_length  = len(list(iter(test_loader)))"
   ]
  },
  {
   "cell_type": "code",
   "execution_count": 138,
   "metadata": {},
   "outputs": [],
   "source": [
    "def epoch_time(start_time, end_time):\n",
    "    elapsed_time = end_time - start_time\n",
    "    elapsed_mins = int(elapsed_time / 60)\n",
    "    elapsed_secs = int(elapsed_time - (elapsed_mins * 60))\n",
    "    return elapsed_mins, elapsed_secs"
   ]
  },
  {
   "cell_type": "markdown",
   "metadata": {},
   "source": [
    "## General Attention Model Training"
   ]
  },
  {
   "cell_type": "code",
   "execution_count": 140,
   "metadata": {
    "scrolled": true
   },
   "outputs": [
    {
     "name": "stdout",
     "output_type": "stream",
     "text": [
      "Epoch: 01 | Time: 8m 42s\n",
      "\tTrain Loss: 4.759 | Train PPL: 116.678\n",
      "\t Val. Loss: 4.310 |  Val. PPL:  74.474\n",
      "Epoch: 02 | Time: 8m 39s\n",
      "\tTrain Loss: 4.145 | Train PPL:  63.146\n",
      "\t Val. Loss: 3.985 |  Val. PPL:  53.794\n",
      "Epoch: 03 | Time: 8m 40s\n",
      "\tTrain Loss: 3.785 | Train PPL:  44.032\n",
      "\t Val. Loss: 3.801 |  Val. PPL:  44.739\n",
      "Epoch: 04 | Time: 8m 38s\n",
      "\tTrain Loss: 3.499 | Train PPL:  33.092\n",
      "\t Val. Loss: 3.711 |  Val. PPL:  40.905\n",
      "Epoch: 05 | Time: 8m 38s\n",
      "\tTrain Loss: 3.253 | Train PPL:  25.864\n",
      "\t Val. Loss: 3.630 |  Val. PPL:  37.703\n",
      "Epoch: 06 | Time: 8m 39s\n",
      "\tTrain Loss: 3.032 | Train PPL:  20.748\n",
      "\t Val. Loss: 3.591 |  Val. PPL:  36.262\n",
      "Epoch: 07 | Time: 8m 34s\n",
      "\tTrain Loss: 2.830 | Train PPL:  16.940\n",
      "\t Val. Loss: 3.537 |  Val. PPL:  34.356\n",
      "Epoch: 08 | Time: 8m 34s\n",
      "\tTrain Loss: 2.641 | Train PPL:  14.032\n",
      "\t Val. Loss: 3.539 |  Val. PPL:  34.424\n",
      "Epoch: 09 | Time: 8m 44s\n",
      "\tTrain Loss: 2.469 | Train PPL:  11.807\n",
      "\t Val. Loss: 3.514 |  Val. PPL:  33.591\n",
      "Epoch: 10 | Time: 8m 31s\n",
      "\tTrain Loss: 2.307 | Train PPL:  10.049\n",
      "\t Val. Loss: 3.532 |  Val. PPL:  34.206\n"
     ]
    }
   ],
   "source": [
    "best_valid_loss = float('inf')\n",
    "num_epochs = 10\n",
    "clip       = 1\n",
    "\n",
    "gen_save_path = f'app/models/general_model_v4.pt'\n",
    "\n",
    "train_losses = []\n",
    "valid_losses = []\n",
    "\n",
    "for epoch in range(num_epochs):\n",
    "    \n",
    "    start_time = time.time()\n",
    "\n",
    "    train_loss = train(general_model, train_loader, general_optimizer, general_criterion, clip, train_loader_length)\n",
    "    valid_loss = evaluate(general_model, valid_loader, general_criterion, val_loader_length)\n",
    "    \n",
    "    #for plotting\n",
    "    train_losses.append(train_loss)\n",
    "    valid_losses.append(valid_loss)\n",
    "    \n",
    "    end_time = time.time()\n",
    "    \n",
    "    epoch_mins, epoch_secs = epoch_time(start_time, end_time)\n",
    "\n",
    "    \n",
    "    if valid_loss < best_valid_loss:\n",
    "        best_valid_loss = valid_loss\n",
    "        torch.save(general_model.state_dict(), gen_save_path)\n",
    "    \n",
    "    print(f'Epoch: {epoch+1:02} | Time: {epoch_mins}m {epoch_secs}s')\n",
    "    print(f'\\tTrain Loss: {train_loss:.3f} | Train PPL: {math.exp(train_loss):7.3f}')\n",
    "    print(f'\\t Val. Loss: {valid_loss:.3f} |  Val. PPL: {math.exp(valid_loss):7.3f}')\n",
    "    \n",
    "    #lower perplexity is better"
   ]
  },
  {
   "cell_type": "code",
   "execution_count": 141,
   "metadata": {},
   "outputs": [
    {
     "data": {
      "text/plain": [
       "Text(0, 0.5, 'loss')"
      ]
     },
     "execution_count": 141,
     "metadata": {},
     "output_type": "execute_result"
    },
    {
     "data": {
      "image/png": "[encoded data removed]",
      "text/plain": [
       "<Figure size 500x300 with 1 Axes>"
      ]
     },
     "metadata": {},
     "output_type": "display_data"
    }
   ],
   "source": [
    "import matplotlib.pyplot as plt\n",
    "fig = plt.figure(figsize=(5, 3))\n",
    "ax = fig.add_subplot(1, 1, 1)\n",
    "ax.plot(train_losses, label = 'train loss')\n",
    "ax.plot(valid_losses, label = 'valid loss')\n",
    "plt.legend()\n",
    "ax.set_xlabel('updates')\n",
    "ax.set_ylabel('loss')"
   ]
  },
  {
   "cell_type": "code",
   "execution_count": 142,
   "metadata": {},
   "outputs": [
    {
     "name": "stdout",
     "output_type": "stream",
     "text": [
      "| Test Loss: 3.545 | Test PPL:  34.656 |\n"
     ]
    }
   ],
   "source": [
    "general_model.load_state_dict(torch.load(gen_save_path))\n",
    "test_loss = evaluate(general_model, test_loader, general_criterion, test_loader_length)\n",
    "\n",
    "print(f'| Test Loss: {test_loss:.3f} | Test PPL: {math.exp(test_loss):7.3f} |')"
   ]
  },
  {
   "cell_type": "markdown",
   "metadata": {},
   "source": [
    "## Multiplicative Attention Model Training"
   ]
  },
  {
   "cell_type": "code",
   "execution_count": 143,
   "metadata": {},
   "outputs": [
    {
     "name": "stdout",
     "output_type": "stream",
     "text": [
      "Epoch: 01 | Time: 8m 30s\n",
      "\tTrain Loss: 5.743 | Train PPL: 311.961\n",
      "\t Val. Loss: 4.701 |  Val. PPL: 110.007\n",
      "Epoch: 02 | Time: 8m 30s\n",
      "\tTrain Loss: 4.447 | Train PPL:  85.365\n",
      "\t Val. Loss: 4.148 |  Val. PPL:  63.289\n",
      "Epoch: 03 | Time: 8m 53s\n",
      "\tTrain Loss: 3.976 | Train PPL:  53.282\n",
      "\t Val. Loss: 3.891 |  Val. PPL:  48.949\n",
      "Epoch: 04 | Time: 9m 4s\n",
      "\tTrain Loss: 3.653 | Train PPL:  38.594\n",
      "\t Val. Loss: 3.762 |  Val. PPL:  43.032\n",
      "Epoch: 05 | Time: 9m 7s\n",
      "\tTrain Loss: 3.392 | Train PPL:  29.734\n",
      "\t Val. Loss: 3.665 |  Val. PPL:  39.047\n",
      "Epoch: 06 | Time: 9m 11s\n",
      "\tTrain Loss: 3.159 | Train PPL:  23.540\n",
      "\t Val. Loss: 3.623 |  Val. PPL:  37.461\n",
      "Epoch: 07 | Time: 9m 6s\n",
      "\tTrain Loss: 2.951 | Train PPL:  19.131\n",
      "\t Val. Loss: 3.566 |  Val. PPL:  35.383\n",
      "Epoch: 08 | Time: 9m 6s\n",
      "\tTrain Loss: 2.758 | Train PPL:  15.761\n",
      "\t Val. Loss: 3.565 |  Val. PPL:  35.333\n",
      "Epoch: 09 | Time: 9m 13s\n",
      "\tTrain Loss: 2.571 | Train PPL:  13.076\n",
      "\t Val. Loss: 3.553 |  Val. PPL:  34.906\n",
      "Epoch: 10 | Time: 9m 5s\n",
      "\tTrain Loss: 2.406 | Train PPL:  11.094\n",
      "\t Val. Loss: 3.549 |  Val. PPL:  34.770\n"
     ]
    }
   ],
   "source": [
    "best_valid_loss = float('inf')\n",
    "num_epochs = 10\n",
    "clip       = 1\n",
    "\n",
    "multi_save_path = f'app/models/multi_model_v4.pt'\n",
    "\n",
    "train_losses = []\n",
    "valid_losses = []\n",
    "\n",
    "for epoch in range(num_epochs):\n",
    "    \n",
    "    start_time = time.time()\n",
    "\n",
    "    train_loss = train(multi_model, train_loader, multi_optimizer, multi_criterion, clip, train_loader_length)\n",
    "    valid_loss = evaluate(multi_model, valid_loader, multi_criterion, val_loader_length)\n",
    "    \n",
    "    #for plotting\n",
    "    train_losses.append(train_loss)\n",
    "    valid_losses.append(valid_loss)\n",
    "    \n",
    "    end_time = time.time()\n",
    "    \n",
    "    epoch_mins, epoch_secs = epoch_time(start_time, end_time)\n",
    "\n",
    "    \n",
    "    if valid_loss < best_valid_loss:\n",
    "        best_valid_loss = valid_loss\n",
    "        torch.save(multi_model.state_dict(), multi_save_path)\n",
    "    \n",
    "    print(f'Epoch: {epoch+1:02} | Time: {epoch_mins}m {epoch_secs}s')\n",
    "    print(f'\\tTrain Loss: {train_loss:.3f} | Train PPL: {math.exp(train_loss):7.3f}')\n",
    "    print(f'\\t Val. Loss: {valid_loss:.3f} |  Val. PPL: {math.exp(valid_loss):7.3f}')\n",
    "    \n",
    "    #lower perplexity is better"
   ]
  },
  {
   "cell_type": "code",
   "execution_count": 144,
   "metadata": {},
   "outputs": [
    {
     "data": {
      "text/plain": [
       "Text(0, 0.5, 'loss')"
      ]
     },
     "execution_count": 144,
     "metadata": {},
     "output_type": "execute_result"
    },
    {
     "data": {
      "image/png": "[encoded data removed]",
      "text/plain": [
       "<Figure size 500x300 with 1 Axes>"
      ]
     },
     "metadata": {},
     "output_type": "display_data"
    }
   ],
   "source": [
    "import matplotlib.pyplot as plt\n",
    "fig = plt.figure(figsize=(5, 3))\n",
    "ax = fig.add_subplot(1, 1, 1)\n",
    "ax.plot(train_losses, label = 'train loss')\n",
    "ax.plot(valid_losses, label = 'valid loss')\n",
    "plt.legend()\n",
    "ax.set_xlabel('updates')\n",
    "ax.set_ylabel('loss')"
   ]
  },
  {
   "cell_type": "code",
   "execution_count": 145,
   "metadata": {},
   "outputs": [
    {
     "name": "stdout",
     "output_type": "stream",
     "text": [
      "| Test Loss: 3.584 | Test PPL:  36.017 |\n"
     ]
    }
   ],
   "source": [
    "multi_model.load_state_dict(torch.load(multi_save_path))\n",
    "test_loss = evaluate(multi_model, test_loader, multi_criterion, test_loader_length)\n",
    "\n",
    "print(f'| Test Loss: {test_loss:.3f} | Test PPL: {math.exp(test_loss):7.3f} |')"
   ]
  },
  {
   "cell_type": "markdown",
   "metadata": {},
   "source": [
    "## Additive Attention Model Training"
   ]
  },
  {
   "cell_type": "code",
   "execution_count": 146,
   "metadata": {},
   "outputs": [
    {
     "name": "stdout",
     "output_type": "stream",
     "text": [
      "Epoch: 01 | Time: 13m 4s\n",
      "\tTrain Loss: 5.747 | Train PPL: 313.315\n",
      "\t Val. Loss: 4.685 |  Val. PPL: 108.294\n",
      "Epoch: 02 | Time: 13m 19s\n",
      "\tTrain Loss: 4.430 | Train PPL:  83.920\n",
      "\t Val. Loss: 4.119 |  Val. PPL:  61.505\n",
      "Epoch: 03 | Time: 13m 22s\n",
      "\tTrain Loss: 3.955 | Train PPL:  52.192\n",
      "\t Val. Loss: 3.886 |  Val. PPL:  48.716\n",
      "Epoch: 04 | Time: 13m 21s\n",
      "\tTrain Loss: 3.635 | Train PPL:  37.889\n",
      "\t Val. Loss: 3.729 |  Val. PPL:  41.619\n",
      "Epoch: 05 | Time: 13m 28s\n",
      "\tTrain Loss: 3.369 | Train PPL:  29.059\n",
      "\t Val. Loss: 3.646 |  Val. PPL:  38.310\n",
      "Epoch: 06 | Time: 13m 18s\n",
      "\tTrain Loss: 3.139 | Train PPL:  23.087\n",
      "\t Val. Loss: 3.591 |  Val. PPL:  36.285\n",
      "Epoch: 07 | Time: 13m 26s\n",
      "\tTrain Loss: 2.931 | Train PPL:  18.746\n",
      "\t Val. Loss: 3.548 |  Val. PPL:  34.748\n",
      "Epoch: 08 | Time: 13m 13s\n",
      "\tTrain Loss: 2.745 | Train PPL:  15.566\n",
      "\t Val. Loss: 3.536 |  Val. PPL:  34.313\n",
      "Epoch: 09 | Time: 13m 18s\n",
      "\tTrain Loss: 2.563 | Train PPL:  12.976\n",
      "\t Val. Loss: 3.522 |  Val. PPL:  33.836\n",
      "Epoch: 10 | Time: 13m 20s\n",
      "\tTrain Loss: 2.408 | Train PPL:  11.113\n",
      "\t Val. Loss: 3.523 |  Val. PPL:  33.892\n"
     ]
    }
   ],
   "source": [
    "best_valid_loss = float('inf')\n",
    "num_epochs = 10\n",
    "clip       = 1\n",
    "\n",
    "add_save_path = f'app/models/add_model_v4.pt'\n",
    "\n",
    "train_losses = []\n",
    "valid_losses = []\n",
    "\n",
    "for epoch in range(num_epochs):\n",
    "    \n",
    "    start_time = time.time()\n",
    "\n",
    "    train_loss = train(add_model, train_loader, add_optimizer, add_criterion, clip, train_loader_length)\n",
    "    valid_loss = evaluate(add_model, valid_loader, add_criterion, val_loader_length)\n",
    "    \n",
    "    #for plotting\n",
    "    train_losses.append(train_loss)\n",
    "    valid_losses.append(valid_loss)\n",
    "    \n",
    "    end_time = time.time()\n",
    "    \n",
    "    epoch_mins, epoch_secs = epoch_time(start_time, end_time)\n",
    "\n",
    "    \n",
    "    if valid_loss < best_valid_loss:\n",
    "        best_valid_loss = valid_loss\n",
    "        torch.save(add_model.state_dict(), add_save_path)\n",
    "    \n",
    "    print(f'Epoch: {epoch+1:02} | Time: {epoch_mins}m {epoch_secs}s')\n",
    "    print(f'\\tTrain Loss: {train_loss:.3f} | Train PPL: {math.exp(train_loss):7.3f}')\n",
    "    print(f'\\t Val. Loss: {valid_loss:.3f} |  Val. PPL: {math.exp(valid_loss):7.3f}')\n",
    "    \n",
    "    #lower perplexity is better"
   ]
  },
  {
   "cell_type": "code",
   "execution_count": 147,
   "metadata": {},
   "outputs": [
    {
     "data": {
      "text/plain": [
       "Text(0, 0.5, 'loss')"
      ]
     },
     "execution_count": 147,
     "metadata": {},
     "output_type": "execute_result"
    },
    {
     "data": {
      "image/png": "[encoded data removed]",
      "text/plain": [
       "<Figure size 500x300 with 1 Axes>"
      ]
     },
     "metadata": {},
     "output_type": "display_data"
    }
   ],
   "source": [
    "import matplotlib.pyplot as plt\n",
    "fig = plt.figure(figsize=(5, 3))\n",
    "ax = fig.add_subplot(1, 1, 1)\n",
    "ax.plot(train_losses, label = 'train loss')\n",
    "ax.plot(valid_losses, label = 'valid loss')\n",
    "plt.legend()\n",
    "ax.set_xlabel('updates')\n",
    "ax.set_ylabel('loss')"
   ]
  },
  {
   "cell_type": "code",
   "execution_count": 148,
   "metadata": {},
   "outputs": [
    {
     "name": "stdout",
     "output_type": "stream",
     "text": [
      "| Test Loss: 3.555 | Test PPL:  34.980 |\n"
     ]
    }
   ],
   "source": [
    "add_model.load_state_dict(torch.load(add_save_path))\n",
    "test_loss = evaluate(add_model, test_loader, add_criterion, test_loader_length)\n",
    "\n",
    "print(f'| Test Loss: {test_loss:.3f} | Test PPL: {math.exp(test_loss):7.3f} |')"
   ]
  },
  {
   "cell_type": "markdown",
   "metadata": {},
   "source": [
    "## 7. Testing on sample"
   ]
  },
  {
   "cell_type": "code",
   "execution_count": 507,
   "metadata": {},
   "outputs": [],
   "source": [
    "text_text = dataset['train'][13]\n",
    "src_text = text_transform[SRC_LANGUAGE](text_text['en']).to(device).reshape(1, -1)\n",
    "trg_text = text_transform[TRG_LANGUAGE](text_text['my']).to(device).reshape(1, -1)"
   ]
  },
  {
   "cell_type": "code",
   "execution_count": 548,
   "metadata": {},
   "outputs": [
    {
     "data": {
      "text/plain": [
       "('For Ballingers warnings see Ed Ballinger interview Apr 14 2004',\n",
       " 'ဘယ်လ်လင်ဂျာ၏သတိပေးချက်များအတွက်၊၂၀၀၄ခုနှစ်ဧပြီလ၁၄ရက်နေ့ဘယ်လ်လင်ဂျာ၏အင်တာဗျူးကိုကြည့်ပါ။')"
      ]
     },
     "execution_count": 548,
     "metadata": {},
     "output_type": "execute_result"
    }
   ],
   "source": [
    "text_text['en'], text_text['my']"
   ]
  },
  {
   "cell_type": "code",
   "execution_count": 549,
   "metadata": {},
   "outputs": [],
   "source": [
    "def perform_decoding(model, input_sequence, max_len=500, device=device):\n",
    "    # Convert source text to model-compatible tensor format\n",
    "    transformed_source = text_transform[SRC_LANGUAGE](input_sequence)\n",
    "    source_tensor = transformed_source.to(device).view(1, -1)  # Create batch dimension\n",
    "    \n",
    "    # Initialize decoding process\n",
    "    decoded_indices = [SOS_IDX]  # Starting with start-of-sequence token\n",
    "    model.eval()  # Set model to evaluation mode\n",
    "    \n",
    "    # Iterate through sequence generation steps\n",
    "    for step_num in range(max_len):\n",
    "        # Prepare current sequence for model input\n",
    "        decoder_input = torch.tensor(decoded_indices, dtype=torch.long, device=device).unsqueeze(0)\n",
    "        \n",
    "        # Disable gradient computation during inference\n",
    "        with torch.no_grad():\n",
    "            model_outputs, attention_weights = model(source_tensor, decoder_input)\n",
    "        \n",
    "        # Obtain next token prediction (greedy selection)\n",
    "        final_output = model_outputs.softmax(dim=-1)\n",
    "        predicted_index = final_output.argmax(dim=2)[:, -1].item()\n",
    "        \n",
    "        # Update sequence with new prediction\n",
    "        decoded_indices.append(predicted_index)\n",
    "        \n",
    "        # Check for early termination with end-of-sequence token\n",
    "        if predicted_index == EOS_IDX:\n",
    "            break\n",
    "    \n",
    "    # Convert indices to human-readable tokens\n",
    "    translated_tokens = [\n",
    "        mapping[TRG_LANGUAGE][idx] \n",
    "        for idx in decoded_indices[1:]  # Remove initial SOS token\n",
    "    ]\n",
    "    \n",
    "    return translated_tokens, attention_weights"
   ]
  },
  {
   "cell_type": "markdown",
   "metadata": {},
   "source": [
    "### General Inference Testing"
   ]
  },
  {
   "cell_type": "code",
   "execution_count": 550,
   "metadata": {},
   "outputs": [
    {
     "name": "stdout",
     "output_type": "stream",
     "text": [
      "Predicted Sentence: ၏ အင်တာဗျူး ရက် ၊ အင်တာဗျူး တွင် ကူညီ ပေး ခြင်း အတွက် ၊ အင်တာဗျူး ၄ ကို ကြည့် ပါ ။ <eos>\n"
     ]
    }
   ],
   "source": [
    "general_src_sentence = text_text['en']\n",
    "\n",
    "general_output_sentence, general_attentions = perform_decoding(general_model, general_src_sentence, max_len=500, device=device)\n",
    "print(\"Predicted Sentence:\", ' '.join(general_output_sentence))"
   ]
  },
  {
   "cell_type": "markdown",
   "metadata": {},
   "source": [
    "### Multiplicative Inference Testing"
   ]
  },
  {
   "cell_type": "code",
   "execution_count": 551,
   "metadata": {},
   "outputs": [
    {
     "name": "stdout",
     "output_type": "stream",
     "text": [
      "Predicted Sentence: ၏ အင်တာဗျူး ၊ ထောက်လှမ်း ရေး အစီရင်ခံစာ ၊ အင်တာဗျူး ၄ ၃ ၂ ၊ ၏ အင်တာဗျူး ကို ကြည့် ပါ ။ <eos>\n"
     ]
    }
   ],
   "source": [
    "multi_src_sentence = text_text['en']\n",
    "\n",
    "multi_output_sentence, multi_attentions = perform_decoding(multi_model, multi_src_sentence, max_len=500, device=device)\n",
    "print(\"Predicted Sentence:\", ' '.join(multi_output_sentence))"
   ]
  },
  {
   "cell_type": "markdown",
   "metadata": {},
   "source": [
    "### Additive Inference Testing"
   ]
  },
  {
   "cell_type": "code",
   "execution_count": 552,
   "metadata": {},
   "outputs": [
    {
     "name": "stdout",
     "output_type": "stream",
     "text": [
      "Predicted Sentence: ကေအက်စ်အမ် ၏ အင်တာဗျူး ၊ ကေအက်စ်အမ် သည် အယ်လ် ကိုင် ဒါ ကို ကြည့် ရန် ၊ ၂၀၀၁ ခု နှစ် ၊ ၂၀၀၁ ခု နှစ် ၊ စက်တင်ဘာ လ ၁၄ ရက်နေ့ ၊ စက်တင်ဘာ လ ၁၄ ရက်နေ့ ၊ စက်တင်ဘာ လ ၁၄ ရက်နေ့ တွင် ကြည့် ပါ ။ <eos>\n"
     ]
    }
   ],
   "source": [
    "add_src_sentence = text_text['en']\n",
    "\n",
    "add_output_sentence, add_attentions = perform_decoding(add_model, add_src_sentence, max_len=500, device=device)\n",
    "print(\"Predicted Sentence:\", ' '.join(add_output_sentence))"
   ]
  },
  {
   "cell_type": "markdown",
   "metadata": {},
   "source": [
    "## Attention Testing"
   ]
  },
  {
   "cell_type": "code",
   "execution_count": 539,
   "metadata": {},
   "outputs": [],
   "source": [
    "import warnings\n",
    "warnings.filterwarnings(\"ignore\", category=UserWarning)"
   ]
  },
  {
   "cell_type": "code",
   "execution_count": 443,
   "metadata": {},
   "outputs": [
    {
     "data": {
      "text/plain": [
       "{'en': 'The children attending our shows prepare in advance for their theatrical experience through their classs curriculum',\n",
       " 'my': 'ကျွန်ုပ်တို့၏ရှိုးပွဲများကိုတက်ရောက်သည့်ကလေးများသည်၎င်းတို့၏အတန်း၏သင်ရိုးညွှန်းတမ်းမှတစ်ဆင့်၎င်းတို့၏ပြဇာတ်အတွေ့အကြုံအတွက်ကြိုတင်ပြင်ဆင်ထားကြသည်'}"
      ]
     },
     "execution_count": 443,
     "metadata": {},
     "output_type": "execute_result"
    }
   ],
   "source": [
    "text_text = dataset['train'][50]\n",
    "text_text"
   ]
  },
  {
   "cell_type": "code",
   "execution_count": 444,
   "metadata": {},
   "outputs": [
    {
     "data": {
      "text/plain": [
       "'The children attending our shows prepare in advance for their theatrical experience through their classs curriculum'"
      ]
     },
     "execution_count": 444,
     "metadata": {},
     "output_type": "execute_result"
    }
   ],
   "source": [
    "text_text['en']"
   ]
  },
  {
   "cell_type": "code",
   "execution_count": 445,
   "metadata": {},
   "outputs": [
    {
     "data": {
      "text/plain": [
       "'ကျွန်ုပ်တို့၏ရှိုးပွဲများကိုတက်ရောက်သည့်ကလေးများသည်၎င်းတို့၏အတန်း၏သင်ရိုးညွှန်းတမ်းမှတစ်ဆင့်၎င်းတို့၏ပြဇာတ်အတွေ့အကြုံအတွက်ကြိုတင်ပြင်ဆင်ထားကြသည်'"
      ]
     },
     "execution_count": 445,
     "metadata": {},
     "output_type": "execute_result"
    }
   ],
   "source": [
    "text_text['my']"
   ]
  },
  {
   "cell_type": "code",
   "execution_count": 446,
   "metadata": {},
   "outputs": [
    {
     "data": {
      "text/plain": [
       "tensor([   2,   10,  231, 3477,   82,  363, 5021,    9, 1912,   16,   58, 4000,\n",
       "         918,  176,   58,    0, 4627,    3], device='cuda:0')"
      ]
     },
     "execution_count": 446,
     "metadata": {},
     "output_type": "execute_result"
    }
   ],
   "source": [
    "src_text = text_transform[SRC_LANGUAGE](text_text['en']).to(device)\n",
    "src_text"
   ]
  },
  {
   "cell_type": "code",
   "execution_count": 447,
   "metadata": {},
   "outputs": [
    {
     "data": {
      "text/plain": [
       "tensor([   2,   86,   20,   23, 2583,    7,    6,  853,   45,    8,   74,    7,\n",
       "           5,   81,   20,   23, 1485,   23, 3100,   31,   15,  672,   81,   20,\n",
       "          23,  610,  882,   41,  645,  462,   39,   44,    5,    3],\n",
       "       device='cuda:0')"
      ]
     },
     "execution_count": 447,
     "metadata": {},
     "output_type": "execute_result"
    }
   ],
   "source": [
    "trg_text = text_transform[TRG_LANGUAGE](text_text['my']).to(device)\n",
    "trg_text"
   ]
  },
  {
   "cell_type": "code",
   "execution_count": 448,
   "metadata": {},
   "outputs": [],
   "source": [
    "src_text = src_text.reshape(1, -1)  #because batch_size is 1"
   ]
  },
  {
   "cell_type": "code",
   "execution_count": 449,
   "metadata": {},
   "outputs": [],
   "source": [
    "trg_text = trg_text.reshape(1, -1)"
   ]
  },
  {
   "cell_type": "code",
   "execution_count": 450,
   "metadata": {},
   "outputs": [
    {
     "data": {
      "text/plain": [
       "(torch.Size([1, 18]), torch.Size([1, 34]))"
      ]
     },
     "execution_count": 450,
     "metadata": {},
     "output_type": "execute_result"
    }
   ],
   "source": [
    "src_text.shape, trg_text.shape"
   ]
  },
  {
   "cell_type": "code",
   "execution_count": 451,
   "metadata": {},
   "outputs": [],
   "source": [
    "text_length = torch.tensor([src_text.size(0)]).to(dtype=torch.int64)"
   ]
  },
  {
   "cell_type": "code",
   "execution_count": 452,
   "metadata": {},
   "outputs": [],
   "source": [
    "general_model.load_state_dict(torch.load(gen_save_path))\n",
    "\n",
    "general_model.eval()\n",
    "with torch.no_grad():\n",
    "    g_output, g_attentions = general_model(src_text, trg_text) #turn off teacher forcing"
   ]
  },
  {
   "cell_type": "code",
   "execution_count": 453,
   "metadata": {},
   "outputs": [
    {
     "data": {
      "text/plain": [
       "torch.Size([1, 34, 4048])"
      ]
     },
     "execution_count": 453,
     "metadata": {},
     "output_type": "execute_result"
    }
   ],
   "source": [
    "g_output.shape #batch_size, trg_len, trg_output_dim"
   ]
  },
  {
   "cell_type": "markdown",
   "metadata": {},
   "source": [
    "Since batch size is 1, we just take off that dimension"
   ]
  },
  {
   "cell_type": "code",
   "execution_count": 454,
   "metadata": {},
   "outputs": [],
   "source": [
    "g_output = g_output.squeeze(0)"
   ]
  },
  {
   "cell_type": "code",
   "execution_count": 455,
   "metadata": {},
   "outputs": [
    {
     "data": {
      "text/plain": [
       "torch.Size([34, 4048])"
      ]
     },
     "execution_count": 455,
     "metadata": {},
     "output_type": "execute_result"
    }
   ],
   "source": [
    "g_output.shape"
   ]
  },
  {
   "cell_type": "markdown",
   "metadata": {},
   "source": [
    "We shall remove the first token since it's zeroes anyway"
   ]
  },
  {
   "cell_type": "code",
   "execution_count": 456,
   "metadata": {},
   "outputs": [
    {
     "data": {
      "text/plain": [
       "torch.Size([33, 4048])"
      ]
     },
     "execution_count": 456,
     "metadata": {},
     "output_type": "execute_result"
    }
   ],
   "source": [
    "g_output = g_output[1:]\n",
    "g_output.shape #trg_len, trg_output_dim"
   ]
  },
  {
   "cell_type": "markdown",
   "metadata": {},
   "source": [
    "Then we just take the top token with highest probabilities"
   ]
  },
  {
   "cell_type": "code",
   "execution_count": 457,
   "metadata": {},
   "outputs": [],
   "source": [
    "g_output_max = g_output.argmax(1) #returns max indices"
   ]
  },
  {
   "cell_type": "code",
   "execution_count": 458,
   "metadata": {},
   "outputs": [
    {
     "data": {
      "text/plain": [
       "tensor([ 20,  23,   8,   7,   8,   8,  35,   8,  74,   7,   8,  81,  20,  23,\n",
       "          0,  23, 428,  31,  15,  24,  86,  20,  23,   0,   7,  41, 252, 462,\n",
       "         39,  44,   5,   4,   7], device='cuda:0')"
      ]
     },
     "execution_count": 458,
     "metadata": {},
     "output_type": "execute_result"
    }
   ],
   "source": [
    "g_output_max"
   ]
  },
  {
   "cell_type": "markdown",
   "metadata": {},
   "source": [
    "Get the mapping of the target language"
   ]
  },
  {
   "cell_type": "code",
   "execution_count": 459,
   "metadata": {},
   "outputs": [],
   "source": [
    "g_mapping = vocab_transform[TRG_LANGUAGE].get_itos()"
   ]
  },
  {
   "cell_type": "code",
   "execution_count": 460,
   "metadata": {},
   "outputs": [
    {
     "name": "stdout",
     "output_type": "stream",
     "text": [
      "တို့\n",
      "၏\n",
      "က\n",
      "များ\n",
      "က\n",
      "က\n",
      "ရန်\n",
      "က\n",
      "လေး\n",
      "များ\n",
      "က\n",
      "၎င်း\n",
      "တို့\n",
      "၏\n",
      "<unk>\n",
      "၏\n",
      "အရေးကြီး\n",
      "မှ\n",
      "တစ်\n",
      "ခု\n",
      "ကျွန်ုပ်\n",
      "တို့\n",
      "၏\n",
      "<unk>\n",
      "များ\n",
      "အတွက်\n",
      "အကောင်းဆုံး\n",
      "ပြင်ဆင်\n",
      "ထား\n",
      "ကြ\n",
      "သည်\n",
      "။\n",
      "များ\n"
     ]
    }
   ],
   "source": [
    "for token in g_output_max:\n",
    "    print(g_mapping[token.item()])"
   ]
  },
  {
   "cell_type": "markdown",
   "metadata": {},
   "source": [
    "Let's display the attentions to understand how the source text links with the generated text"
   ]
  },
  {
   "cell_type": "code",
   "execution_count": 461,
   "metadata": {},
   "outputs": [
    {
     "data": {
      "text/plain": [
       "torch.Size([1, 8, 34, 18])"
      ]
     },
     "execution_count": 461,
     "metadata": {},
     "output_type": "execute_result"
    }
   ],
   "source": [
    "g_attentions.shape"
   ]
  },
  {
   "cell_type": "markdown",
   "metadata": {},
   "source": [
    "Since there are 8 heads, we can look at just 1 head for sake of simplicity."
   ]
  },
  {
   "cell_type": "code",
   "execution_count": 462,
   "metadata": {},
   "outputs": [
    {
     "data": {
      "text/plain": [
       "torch.Size([34, 18])"
      ]
     },
     "execution_count": 462,
     "metadata": {},
     "output_type": "execute_result"
    }
   ],
   "source": [
    "g_attention = g_attentions[0, 0, :, :]\n",
    "g_attention.shape"
   ]
  },
  {
   "cell_type": "code",
   "execution_count": 463,
   "metadata": {},
   "outputs": [
    {
     "data": {
      "text/plain": [
       "['<sos>',\n",
       " 'The',\n",
       " 'children',\n",
       " 'attending',\n",
       " 'our',\n",
       " 'shows',\n",
       " 'prepare',\n",
       " 'in',\n",
       " 'advance',\n",
       " 'for',\n",
       " 'their',\n",
       " 'theatrical',\n",
       " 'experience',\n",
       " 'through',\n",
       " 'their',\n",
       " 'classs',\n",
       " 'curriculum',\n",
       " '<eos>']"
      ]
     },
     "execution_count": 463,
     "metadata": {},
     "output_type": "execute_result"
    }
   ],
   "source": [
    "g_src_tokens = ['<sos>'] + token_transform[SRC_LANGUAGE](text_text['en']) + ['<eos>']\n",
    "g_src_tokens"
   ]
  },
  {
   "cell_type": "code",
   "execution_count": 464,
   "metadata": {},
   "outputs": [
    {
     "data": {
      "text/plain": [
       "['<sos>',\n",
       " 'တို့',\n",
       " '၏',\n",
       " 'က',\n",
       " 'များ',\n",
       " 'က',\n",
       " 'က',\n",
       " 'ရန်',\n",
       " 'က',\n",
       " 'လေး',\n",
       " 'များ',\n",
       " 'က',\n",
       " '၎င်း',\n",
       " 'တို့',\n",
       " '၏',\n",
       " '<unk>',\n",
       " '၏',\n",
       " 'အရေးကြီး',\n",
       " 'မှ',\n",
       " 'တစ်',\n",
       " 'ခု',\n",
       " 'ကျွန်ုပ်',\n",
       " 'တို့',\n",
       " '၏',\n",
       " '<unk>',\n",
       " 'များ',\n",
       " 'အတွက်',\n",
       " 'အကောင်းဆုံး',\n",
       " 'ပြင်ဆင်',\n",
       " 'ထား',\n",
       " 'ကြ',\n",
       " 'သည်',\n",
       " '။',\n",
       " 'များ']"
      ]
     },
     "execution_count": 464,
     "metadata": {},
     "output_type": "execute_result"
    }
   ],
   "source": [
    "g_trg_tokens = ['<sos>'] + [g_mapping[token.item()] for token in g_output_max]\n",
    "g_trg_tokens"
   ]
  },
  {
   "cell_type": "code",
   "execution_count": 553,
   "metadata": {},
   "outputs": [
    {
     "name": "stdout",
     "output_type": "stream",
     "text": [
      "C:\\Users\\ws-\\AppData\\Local\\Microsoft\\Windows\\Fonts\\Pyidaungsu-2.5.3_Regular.ttf\n"
     ]
    }
   ],
   "source": [
    "import matplotlib.pyplot as plt\n",
    "import matplotlib.ticker as ticker\n",
    "import matplotlib.font_manager as fm\n",
    "\n",
    "for font in fm.findSystemFonts(fontpaths=None, fontext='ttf'):\n",
    "    if \"Myanmar\" in font or \"Pyidaungsu\" in font:\n",
    "        print(font)  # Print the path to any Myanmar-compatible font\n",
    "\n",
    "font_path = font\n",
    "\n",
    "# Set the font to support Burmese\n",
    "def set_burmese_font():\n",
    "    # You may need to update the font path based on your OS\n",
    "    if not fm.findfont(fm.FontProperties(fname=font_path)):\n",
    "        print(\"Burmese font not found. Using default font.\")\n",
    "    else:\n",
    "        plt.rcParams['font.family'] = fm.FontProperties(fname=font_path).get_name()\n",
    "\n",
    "set_burmese_font()  # Apply Burmese font setting\n",
    "\n",
    "# Display attention with Burmese support\n",
    "def display_attention(sentence, translation, attention):\n",
    "    print(f\"Attention shape: {attention.shape}\")  # Debugging line\n",
    "    fig = plt.figure(figsize=(10, 10))\n",
    "    ax = fig.add_subplot(111)\n",
    "\n",
    "    # Ensure attention has only 2 dimensions\n",
    "    if len(attention.shape) > 2:\n",
    "        attention = attention[0, 0, :, :]\n",
    "    attention = attention.squeeze(1).cpu().detach().tolist()\n",
    "\n",
    "    cax = ax.matshow(attention, cmap='bone')\n",
    "    ax.tick_params(labelsize=10)\n",
    "\n",
    "    y_ticks = [''] + translation\n",
    "    x_ticks = [''] + sentence\n",
    "\n",
    "    ax.set_xticklabels(x_ticks, rotation=45, fontproperties=fm.FontProperties(fname=font_path))\n",
    "    ax.set_yticklabels(y_ticks, fontproperties=fm.FontProperties(fname=font_path))\n",
    "\n",
    "    ax.xaxis.set_major_locator(ticker.MultipleLocator(1))\n",
    "    ax.yaxis.set_major_locator(ticker.MultipleLocator(1))\n",
    "\n",
    "    plt.show()\n",
    "    plt.close()\n"
   ]
  },
  {
   "cell_type": "code",
   "execution_count": 554,
   "metadata": {},
   "outputs": [
    {
     "name": "stdout",
     "output_type": "stream",
     "text": [
      "Attention shape: torch.Size([34, 18])\n"
     ]
    },
    {
     "data": {
      "image/png": "[encoded data removed]",
      "text/plain": [
       "<Figure size 1000x1000 with 1 Axes>"
      ]
     },
     "metadata": {},
     "output_type": "display_data"
    }
   ],
   "source": [
    "display_attention(g_src_tokens, g_trg_tokens, g_attention)"
   ]
  },
  {
   "cell_type": "markdown",
   "metadata": {},
   "source": [
    "### Multiplicative Attention Testing"
   ]
  },
  {
   "cell_type": "code",
   "execution_count": 467,
   "metadata": {},
   "outputs": [],
   "source": [
    "multi_model.load_state_dict(torch.load(multi_save_path))\n",
    "\n",
    "multi_model.eval()\n",
    "with torch.no_grad():\n",
    "    m_output, m_attentions = general_model(src_text, trg_text) #turn off teacher forcing"
   ]
  },
  {
   "cell_type": "code",
   "execution_count": 468,
   "metadata": {},
   "outputs": [
    {
     "data": {
      "text/plain": [
       "torch.Size([1, 34, 4048])"
      ]
     },
     "execution_count": 468,
     "metadata": {},
     "output_type": "execute_result"
    }
   ],
   "source": [
    "m_output.shape #batch_size, trg_len, trg_output_dim"
   ]
  },
  {
   "cell_type": "markdown",
   "metadata": {},
   "source": [
    "Since batch size is 1, we just take off that dimension"
   ]
  },
  {
   "cell_type": "code",
   "execution_count": 469,
   "metadata": {},
   "outputs": [],
   "source": [
    "m_output = m_output.squeeze(0)"
   ]
  },
  {
   "cell_type": "code",
   "execution_count": 470,
   "metadata": {},
   "outputs": [
    {
     "data": {
      "text/plain": [
       "torch.Size([34, 4048])"
      ]
     },
     "execution_count": 470,
     "metadata": {},
     "output_type": "execute_result"
    }
   ],
   "source": [
    "m_output.shape"
   ]
  },
  {
   "cell_type": "markdown",
   "metadata": {},
   "source": [
    "We shall remove the first token since it's zeroes anyway"
   ]
  },
  {
   "cell_type": "code",
   "execution_count": 471,
   "metadata": {},
   "outputs": [
    {
     "data": {
      "text/plain": [
       "torch.Size([33, 4048])"
      ]
     },
     "execution_count": 471,
     "metadata": {},
     "output_type": "execute_result"
    }
   ],
   "source": [
    "m_output = m_output[1:]\n",
    "m_output.shape #trg_len, trg_output_dim"
   ]
  },
  {
   "cell_type": "markdown",
   "metadata": {},
   "source": [
    "Then we just take the top token with highest probabilities"
   ]
  },
  {
   "cell_type": "code",
   "execution_count": 472,
   "metadata": {},
   "outputs": [],
   "source": [
    "m_output_max = m_output.argmax(1) #returns max indices"
   ]
  },
  {
   "cell_type": "code",
   "execution_count": 473,
   "metadata": {},
   "outputs": [
    {
     "data": {
      "text/plain": [
       "tensor([ 20,  23,   8,   7,   8,   8,  35,   8,  74,   7,   8,  81,  20,  23,\n",
       "          0,  23, 428,  31,  15,  24,  86,  20,  23,   0,   7,  41, 252, 462,\n",
       "         39,  44,   5,   4,   7], device='cuda:0')"
      ]
     },
     "execution_count": 473,
     "metadata": {},
     "output_type": "execute_result"
    }
   ],
   "source": [
    "m_output_max"
   ]
  },
  {
   "cell_type": "markdown",
   "metadata": {},
   "source": [
    "Get the mapping of the target language"
   ]
  },
  {
   "cell_type": "code",
   "execution_count": 474,
   "metadata": {},
   "outputs": [],
   "source": [
    "m_mapping = vocab_transform[TRG_LANGUAGE].get_itos()"
   ]
  },
  {
   "cell_type": "code",
   "execution_count": 475,
   "metadata": {},
   "outputs": [
    {
     "name": "stdout",
     "output_type": "stream",
     "text": [
      "တို့\n",
      "၏\n",
      "က\n",
      "များ\n",
      "က\n",
      "က\n",
      "ရန်\n",
      "က\n",
      "လေး\n",
      "များ\n",
      "က\n",
      "၎င်း\n",
      "တို့\n",
      "၏\n",
      "<unk>\n",
      "၏\n",
      "အရေးကြီး\n",
      "မှ\n",
      "တစ်\n",
      "ခု\n",
      "ကျွန်ုပ်\n",
      "တို့\n",
      "၏\n",
      "<unk>\n",
      "များ\n",
      "အတွက်\n",
      "အကောင်းဆုံး\n",
      "ပြင်ဆင်\n",
      "ထား\n",
      "ကြ\n",
      "သည်\n",
      "။\n",
      "များ\n"
     ]
    }
   ],
   "source": [
    "for token in m_output_max:\n",
    "    print(m_mapping[token.item()])"
   ]
  },
  {
   "cell_type": "markdown",
   "metadata": {},
   "source": [
    "Let's display the attentions to understand how the source text links with the generated text"
   ]
  },
  {
   "cell_type": "code",
   "execution_count": 476,
   "metadata": {},
   "outputs": [
    {
     "data": {
      "text/plain": [
       "torch.Size([1, 8, 34, 18])"
      ]
     },
     "execution_count": 476,
     "metadata": {},
     "output_type": "execute_result"
    }
   ],
   "source": [
    "m_attentions.shape"
   ]
  },
  {
   "cell_type": "markdown",
   "metadata": {},
   "source": [
    "Since there are 8 heads, we can look at just 1 head for sake of simplicity."
   ]
  },
  {
   "cell_type": "code",
   "execution_count": 477,
   "metadata": {},
   "outputs": [
    {
     "data": {
      "text/plain": [
       "torch.Size([34, 18])"
      ]
     },
     "execution_count": 477,
     "metadata": {},
     "output_type": "execute_result"
    }
   ],
   "source": [
    "m_attentions = m_attentions[0, 0, :, :]\n",
    "m_attentions.shape"
   ]
  },
  {
   "cell_type": "code",
   "execution_count": 478,
   "metadata": {},
   "outputs": [
    {
     "data": {
      "text/plain": [
       "['<sos>',\n",
       " 'The',\n",
       " 'children',\n",
       " 'attending',\n",
       " 'our',\n",
       " 'shows',\n",
       " 'prepare',\n",
       " 'in',\n",
       " 'advance',\n",
       " 'for',\n",
       " 'their',\n",
       " 'theatrical',\n",
       " 'experience',\n",
       " 'through',\n",
       " 'their',\n",
       " 'classs',\n",
       " 'curriculum',\n",
       " '<eos>']"
      ]
     },
     "execution_count": 478,
     "metadata": {},
     "output_type": "execute_result"
    }
   ],
   "source": [
    "m_src_tokens = ['<sos>'] + token_transform[SRC_LANGUAGE](text_text['en']) + ['<eos>']\n",
    "m_src_tokens"
   ]
  },
  {
   "cell_type": "code",
   "execution_count": 479,
   "metadata": {},
   "outputs": [
    {
     "data": {
      "text/plain": [
       "['<sos>',\n",
       " 'တို့',\n",
       " '၏',\n",
       " 'က',\n",
       " 'များ',\n",
       " 'က',\n",
       " 'က',\n",
       " 'ရန်',\n",
       " 'က',\n",
       " 'လေး',\n",
       " 'များ',\n",
       " 'က',\n",
       " '၎င်း',\n",
       " 'တို့',\n",
       " '၏',\n",
       " '<unk>',\n",
       " '၏',\n",
       " 'အရေးကြီး',\n",
       " 'မှ',\n",
       " 'တစ်',\n",
       " 'ခု',\n",
       " 'ကျွန်ုပ်',\n",
       " 'တို့',\n",
       " '၏',\n",
       " '<unk>',\n",
       " 'များ',\n",
       " 'အတွက်',\n",
       " 'အကောင်းဆုံး',\n",
       " 'ပြင်ဆင်',\n",
       " 'ထား',\n",
       " 'ကြ',\n",
       " 'သည်',\n",
       " '။',\n",
       " 'များ']"
      ]
     },
     "execution_count": 479,
     "metadata": {},
     "output_type": "execute_result"
    }
   ],
   "source": [
    "m_trg_tokens = ['<sos>'] + [m_mapping[token.item()] for token in m_output_max]\n",
    "m_trg_tokens"
   ]
  },
  {
   "cell_type": "code",
   "execution_count": 480,
   "metadata": {},
   "outputs": [
    {
     "name": "stderr",
     "output_type": "stream",
     "text": [
      "C:\\Users\\ws-\\AppData\\Local\\Temp\\ipykernel_7032\\4006327969.py:24: UserWarning: set_ticklabels() should only be used with a fixed number of ticks, i.e. after set_ticks() or using a FixedLocator.\n",
      "  ax.set_xticklabels(x_ticks, rotation=45, name='Source Text')\n",
      "C:\\Users\\ws-\\AppData\\Local\\Temp\\ipykernel_7032\\4006327969.py:25: UserWarning: set_ticklabels() should only be used with a fixed number of ticks, i.e. after set_ticks() or using a FixedLocator.\n",
      "  ax.set_yticklabels(y_ticks, name='Target Text')\n",
      "findfont: Font family 'Source Text' not found.\n",
      "findfont: Font family 'Source Text' not found.\n"
     ]
    },
    {
     "name": "stdout",
     "output_type": "stream",
     "text": [
      "Attention shape: torch.Size([34, 18])\n"
     ]
    },
    {
     "name": "stderr",
     "output_type": "stream",
     "text": [
      "findfont: Font family 'Source Text' not found.\n",
      "findfont: Font family 'Source Text' not found.\n",
      "findfont: Font family 'Source Text' not found.\n",
      "findfont: Font family 'Source Text' not found.\n",
      "findfont: Font family 'Source Text' not found.\n",
      "findfont: Font family 'Source Text' not found.\n",
      "findfont: Font family 'Source Text' not found.\n",
      "findfont: Font family 'Source Text' not found.\n",
      "findfont: Font family 'Source Text' not found.\n",
      "findfont: Font family 'Source Text' not found.\n",
      "findfont: Font family 'Source Text' not found.\n",
      "findfont: Font family 'Source Text' not found.\n",
      "findfont: Font family 'Source Text' not found.\n",
      "findfont: Font family 'Source Text' not found.\n",
      "findfont: Font family 'Source Text' not found.\n",
      "findfont: Font family 'Source Text' not found.\n",
      "findfont: Font family 'Target Text' not found.\n",
      "findfont: Font family 'Target Text' not found.\n",
      "findfont: Font family 'Target Text' not found.\n",
      "C:\\Users\\ws-\\AppData\\Local\\Packages\\PythonSoftwareFoundation.Python.3.10_qbz5n2kfra8p0\\LocalCache\\local-packages\\Python310\\site-packages\\IPython\\core\\pylabtools.py:170: UserWarning: Glyph 4112 (\\N{MYANMAR LETTER TA}) missing from font(s) DejaVu Sans.\n",
      "  fig.canvas.print_figure(bytes_io, **kw)\n",
      "C:\\Users\\ws-\\AppData\\Local\\Packages\\PythonSoftwareFoundation.Python.3.10_qbz5n2kfra8p0\\LocalCache\\local-packages\\Python310\\site-packages\\IPython\\core\\pylabtools.py:170: UserWarning: Glyph 4141 (\\N{MYANMAR VOWEL SIGN I}) missing from font(s) DejaVu Sans.\n",
      "  fig.canvas.print_figure(bytes_io, **kw)\n",
      "C:\\Users\\ws-\\AppData\\Local\\Packages\\PythonSoftwareFoundation.Python.3.10_qbz5n2kfra8p0\\LocalCache\\local-packages\\Python310\\site-packages\\IPython\\core\\pylabtools.py:170: UserWarning: Glyph 4143 (\\N{MYANMAR VOWEL SIGN U}) missing from font(s) DejaVu Sans.\n",
      "  fig.canvas.print_figure(bytes_io, **kw)\n",
      "C:\\Users\\ws-\\AppData\\Local\\Packages\\PythonSoftwareFoundation.Python.3.10_qbz5n2kfra8p0\\LocalCache\\local-packages\\Python310\\site-packages\\IPython\\core\\pylabtools.py:170: UserWarning: Glyph 4151 (\\N{MYANMAR SIGN DOT BELOW}) missing from font(s) DejaVu Sans.\n",
      "  fig.canvas.print_figure(bytes_io, **kw)\n",
      "findfont: Font family 'Target Text' not found.\n",
      "C:\\Users\\ws-\\AppData\\Local\\Packages\\PythonSoftwareFoundation.Python.3.10_qbz5n2kfra8p0\\LocalCache\\local-packages\\Python310\\site-packages\\IPython\\core\\pylabtools.py:170: UserWarning: Glyph 4175 (\\N{MYANMAR SYMBOL GENITIVE}) missing from font(s) DejaVu Sans.\n",
      "  fig.canvas.print_figure(bytes_io, **kw)\n",
      "findfont: Font family 'Target Text' not found.\n",
      "C:\\Users\\ws-\\AppData\\Local\\Packages\\PythonSoftwareFoundation.Python.3.10_qbz5n2kfra8p0\\LocalCache\\local-packages\\Python310\\site-packages\\IPython\\core\\pylabtools.py:170: UserWarning: Glyph 4096 (\\N{MYANMAR LETTER KA}) missing from font(s) DejaVu Sans.\n",
      "  fig.canvas.print_figure(bytes_io, **kw)\n",
      "findfont: Font family 'Target Text' not found.\n",
      "C:\\Users\\ws-\\AppData\\Local\\Packages\\PythonSoftwareFoundation.Python.3.10_qbz5n2kfra8p0\\LocalCache\\local-packages\\Python310\\site-packages\\IPython\\core\\pylabtools.py:170: UserWarning: Glyph 4121 (\\N{MYANMAR LETTER MA}) missing from font(s) DejaVu Sans.\n",
      "  fig.canvas.print_figure(bytes_io, **kw)\n",
      "C:\\Users\\ws-\\AppData\\Local\\Packages\\PythonSoftwareFoundation.Python.3.10_qbz5n2kfra8p0\\LocalCache\\local-packages\\Python310\\site-packages\\IPython\\core\\pylabtools.py:170: UserWarning: Glyph 4155 (\\N{MYANMAR CONSONANT SIGN MEDIAL YA}) missing from font(s) DejaVu Sans.\n",
      "  fig.canvas.print_figure(bytes_io, **kw)\n",
      "C:\\Users\\ws-\\AppData\\Local\\Packages\\PythonSoftwareFoundation.Python.3.10_qbz5n2kfra8p0\\LocalCache\\local-packages\\Python310\\site-packages\\IPython\\core\\pylabtools.py:170: UserWarning: Glyph 4140 (\\N{MYANMAR VOWEL SIGN AA}) missing from font(s) DejaVu Sans.\n",
      "  fig.canvas.print_figure(bytes_io, **kw)\n",
      "C:\\Users\\ws-\\AppData\\Local\\Packages\\PythonSoftwareFoundation.Python.3.10_qbz5n2kfra8p0\\LocalCache\\local-packages\\Python310\\site-packages\\IPython\\core\\pylabtools.py:170: UserWarning: Glyph 4152 (\\N{MYANMAR SIGN VISARGA}) missing from font(s) DejaVu Sans.\n",
      "  fig.canvas.print_figure(bytes_io, **kw)\n",
      "findfont: Font family 'Target Text' not found.\n",
      "C:\\Users\\ws-\\AppData\\Local\\Packages\\PythonSoftwareFoundation.Python.3.10_qbz5n2kfra8p0\\LocalCache\\local-packages\\Python310\\site-packages\\IPython\\core\\pylabtools.py:170: UserWarning: Glyph 4123 (\\N{MYANMAR LETTER RA}) missing from font(s) DejaVu Sans.\n",
      "  fig.canvas.print_figure(bytes_io, **kw)\n",
      "C:\\Users\\ws-\\AppData\\Local\\Packages\\PythonSoftwareFoundation.Python.3.10_qbz5n2kfra8p0\\LocalCache\\local-packages\\Python310\\site-packages\\IPython\\core\\pylabtools.py:170: UserWarning: Glyph 4116 (\\N{MYANMAR LETTER NA}) missing from font(s) DejaVu Sans.\n",
      "  fig.canvas.print_figure(bytes_io, **kw)\n",
      "C:\\Users\\ws-\\AppData\\Local\\Packages\\PythonSoftwareFoundation.Python.3.10_qbz5n2kfra8p0\\LocalCache\\local-packages\\Python310\\site-packages\\IPython\\core\\pylabtools.py:170: UserWarning: Glyph 4154 (\\N{MYANMAR SIGN ASAT}) missing from font(s) DejaVu Sans.\n",
      "  fig.canvas.print_figure(bytes_io, **kw)\n",
      "findfont: Font family 'Target Text' not found.\n",
      "C:\\Users\\ws-\\AppData\\Local\\Packages\\PythonSoftwareFoundation.Python.3.10_qbz5n2kfra8p0\\LocalCache\\local-packages\\Python310\\site-packages\\IPython\\core\\pylabtools.py:170: UserWarning: Glyph 4124 (\\N{MYANMAR LETTER LA}) missing from font(s) DejaVu Sans.\n",
      "  fig.canvas.print_figure(bytes_io, **kw)\n",
      "C:\\Users\\ws-\\AppData\\Local\\Packages\\PythonSoftwareFoundation.Python.3.10_qbz5n2kfra8p0\\LocalCache\\local-packages\\Python310\\site-packages\\IPython\\core\\pylabtools.py:170: UserWarning: Glyph 4145 (\\N{MYANMAR VOWEL SIGN E}) missing from font(s) DejaVu Sans.\n",
      "  fig.canvas.print_figure(bytes_io, **kw)\n",
      "findfont: Font family 'Target Text' not found.\n",
      "C:\\Users\\ws-\\AppData\\Local\\Packages\\PythonSoftwareFoundation.Python.3.10_qbz5n2kfra8p0\\LocalCache\\local-packages\\Python310\\site-packages\\IPython\\core\\pylabtools.py:170: UserWarning: Glyph 4174 (\\N{MYANMAR SYMBOL AFOREMENTIONED}) missing from font(s) DejaVu Sans.\n",
      "  fig.canvas.print_figure(bytes_io, **kw)\n",
      "C:\\Users\\ws-\\AppData\\Local\\Packages\\PythonSoftwareFoundation.Python.3.10_qbz5n2kfra8p0\\LocalCache\\local-packages\\Python310\\site-packages\\IPython\\core\\pylabtools.py:170: UserWarning: Glyph 4100 (\\N{MYANMAR LETTER NGA}) missing from font(s) DejaVu Sans.\n",
      "  fig.canvas.print_figure(bytes_io, **kw)\n",
      "findfont: Font family 'Target Text' not found.\n",
      "findfont: Font family 'Target Text' not found.\n",
      "C:\\Users\\ws-\\AppData\\Local\\Packages\\PythonSoftwareFoundation.Python.3.10_qbz5n2kfra8p0\\LocalCache\\local-packages\\Python310\\site-packages\\IPython\\core\\pylabtools.py:170: UserWarning: Glyph 4129 (\\N{MYANMAR LETTER A}) missing from font(s) DejaVu Sans.\n",
      "  fig.canvas.print_figure(bytes_io, **kw)\n",
      "C:\\Users\\ws-\\AppData\\Local\\Packages\\PythonSoftwareFoundation.Python.3.10_qbz5n2kfra8p0\\LocalCache\\local-packages\\Python310\\site-packages\\IPython\\core\\pylabtools.py:170: UserWarning: Glyph 4156 (\\N{MYANMAR CONSONANT SIGN MEDIAL RA}) missing from font(s) DejaVu Sans.\n",
      "  fig.canvas.print_figure(bytes_io, **kw)\n",
      "C:\\Users\\ws-\\AppData\\Local\\Packages\\PythonSoftwareFoundation.Python.3.10_qbz5n2kfra8p0\\LocalCache\\local-packages\\Python310\\site-packages\\IPython\\core\\pylabtools.py:170: UserWarning: Glyph 4142 (\\N{MYANMAR VOWEL SIGN II}) missing from font(s) DejaVu Sans.\n",
      "  fig.canvas.print_figure(bytes_io, **kw)\n",
      "findfont: Font family 'Target Text' not found.\n",
      "C:\\Users\\ws-\\AppData\\Local\\Packages\\PythonSoftwareFoundation.Python.3.10_qbz5n2kfra8p0\\LocalCache\\local-packages\\Python310\\site-packages\\IPython\\core\\pylabtools.py:170: UserWarning: Glyph 4158 (\\N{MYANMAR CONSONANT SIGN MEDIAL HA}) missing from font(s) DejaVu Sans.\n",
      "  fig.canvas.print_figure(bytes_io, **kw)\n",
      "findfont: Font family 'Target Text' not found.\n",
      "C:\\Users\\ws-\\AppData\\Local\\Packages\\PythonSoftwareFoundation.Python.3.10_qbz5n2kfra8p0\\LocalCache\\local-packages\\Python310\\site-packages\\IPython\\core\\pylabtools.py:170: UserWarning: Glyph 4101 (\\N{MYANMAR LETTER CA}) missing from font(s) DejaVu Sans.\n",
      "  fig.canvas.print_figure(bytes_io, **kw)\n",
      "findfont: Font family 'Target Text' not found.\n",
      "C:\\Users\\ws-\\AppData\\Local\\Packages\\PythonSoftwareFoundation.Python.3.10_qbz5n2kfra8p0\\LocalCache\\local-packages\\Python310\\site-packages\\IPython\\core\\pylabtools.py:170: UserWarning: Glyph 4097 (\\N{MYANMAR LETTER KHA}) missing from font(s) DejaVu Sans.\n",
      "  fig.canvas.print_figure(bytes_io, **kw)\n",
      "findfont: Font family 'Target Text' not found.\n",
      "C:\\Users\\ws-\\AppData\\Local\\Packages\\PythonSoftwareFoundation.Python.3.10_qbz5n2kfra8p0\\LocalCache\\local-packages\\Python310\\site-packages\\IPython\\core\\pylabtools.py:170: UserWarning: Glyph 4157 (\\N{MYANMAR CONSONANT SIGN MEDIAL WA}) missing from font(s) DejaVu Sans.\n",
      "  fig.canvas.print_figure(bytes_io, **kw)\n",
      "C:\\Users\\ws-\\AppData\\Local\\Packages\\PythonSoftwareFoundation.Python.3.10_qbz5n2kfra8p0\\LocalCache\\local-packages\\Python310\\site-packages\\IPython\\core\\pylabtools.py:170: UserWarning: Glyph 4117 (\\N{MYANMAR LETTER PA}) missing from font(s) DejaVu Sans.\n",
      "  fig.canvas.print_figure(bytes_io, **kw)\n",
      "findfont: Font family 'Target Text' not found.\n",
      "findfont: Font family 'Target Text' not found.\n",
      "C:\\Users\\ws-\\AppData\\Local\\Packages\\PythonSoftwareFoundation.Python.3.10_qbz5n2kfra8p0\\LocalCache\\local-packages\\Python310\\site-packages\\IPython\\core\\pylabtools.py:170: UserWarning: Glyph 4102 (\\N{MYANMAR LETTER CHA}) missing from font(s) DejaVu Sans.\n",
      "  fig.canvas.print_figure(bytes_io, **kw)\n",
      "C:\\Users\\ws-\\AppData\\Local\\Packages\\PythonSoftwareFoundation.Python.3.10_qbz5n2kfra8p0\\LocalCache\\local-packages\\Python310\\site-packages\\IPython\\core\\pylabtools.py:170: UserWarning: Glyph 4150 (\\N{MYANMAR SIGN ANUSVARA}) missing from font(s) DejaVu Sans.\n",
      "  fig.canvas.print_figure(bytes_io, **kw)\n",
      "findfont: Font family 'Target Text' not found.\n",
      "findfont: Font family 'Target Text' not found.\n",
      "C:\\Users\\ws-\\AppData\\Local\\Packages\\PythonSoftwareFoundation.Python.3.10_qbz5n2kfra8p0\\LocalCache\\local-packages\\Python310\\site-packages\\IPython\\core\\pylabtools.py:170: UserWarning: Glyph 4113 (\\N{MYANMAR LETTER THA}) missing from font(s) DejaVu Sans.\n",
      "  fig.canvas.print_figure(bytes_io, **kw)\n",
      "findfont: Font family 'Target Text' not found.\n",
      "findfont: Font family 'Target Text' not found.\n",
      "C:\\Users\\ws-\\AppData\\Local\\Packages\\PythonSoftwareFoundation.Python.3.10_qbz5n2kfra8p0\\LocalCache\\local-packages\\Python310\\site-packages\\IPython\\core\\pylabtools.py:170: UserWarning: Glyph 4126 (\\N{MYANMAR LETTER SA}) missing from font(s) DejaVu Sans.\n",
      "  fig.canvas.print_figure(bytes_io, **kw)\n",
      "C:\\Users\\ws-\\AppData\\Local\\Packages\\PythonSoftwareFoundation.Python.3.10_qbz5n2kfra8p0\\LocalCache\\local-packages\\Python310\\site-packages\\IPython\\core\\pylabtools.py:170: UserWarning: Glyph 4106 (\\N{MYANMAR LETTER NNYA}) missing from font(s) DejaVu Sans.\n",
      "  fig.canvas.print_figure(bytes_io, **kw)\n",
      "findfont: Font family 'Target Text' not found.\n",
      "C:\\Users\\ws-\\AppData\\Local\\Packages\\PythonSoftwareFoundation.Python.3.10_qbz5n2kfra8p0\\LocalCache\\local-packages\\Python310\\site-packages\\IPython\\core\\pylabtools.py:170: UserWarning: Glyph 4171 (\\N{MYANMAR SIGN SECTION}) missing from font(s) DejaVu Sans.\n",
      "  fig.canvas.print_figure(bytes_io, **kw)\n",
      "findfont: Font family 'Source Text' not found.\n",
      "findfont: Font family 'Source Text' not found.\n",
      "findfont: Font family 'Source Text' not found.\n",
      "findfont: Font family 'Source Text' not found.\n",
      "findfont: Font family 'Source Text' not found.\n",
      "findfont: Font family 'Source Text' not found.\n",
      "findfont: Font family 'Source Text' not found.\n",
      "findfont: Font family 'Source Text' not found.\n",
      "findfont: Font family 'Source Text' not found.\n",
      "findfont: Font family 'Source Text' not found.\n",
      "findfont: Font family 'Source Text' not found.\n",
      "findfont: Font family 'Source Text' not found.\n",
      "findfont: Font family 'Source Text' not found.\n",
      "findfont: Font family 'Source Text' not found.\n",
      "findfont: Font family 'Source Text' not found.\n",
      "findfont: Font family 'Source Text' not found.\n",
      "findfont: Font family 'Source Text' not found.\n",
      "findfont: Font family 'Source Text' not found.\n",
      "findfont: Font family 'Source Text' not found.\n",
      "findfont: Font family 'Source Text' not found.\n",
      "findfont: Font family 'Source Text' not found.\n",
      "findfont: Font family 'Source Text' not found.\n",
      "findfont: Font family 'Source Text' not found.\n",
      "findfont: Font family 'Source Text' not found.\n",
      "findfont: Font family 'Source Text' not found.\n",
      "findfont: Font family 'Source Text' not found.\n",
      "findfont: Font family 'Source Text' not found.\n",
      "findfont: Font family 'Source Text' not found.\n",
      "findfont: Font family 'Source Text' not found.\n",
      "findfont: Font family 'Source Text' not found.\n",
      "findfont: Font family 'Source Text' not found.\n",
      "findfont: Font family 'Source Text' not found.\n",
      "findfont: Font family 'Source Text' not found.\n",
      "findfont: Font family 'Source Text' not found.\n",
      "findfont: Font family 'Source Text' not found.\n",
      "findfont: Font family 'Source Text' not found.\n",
      "findfont: Font family 'Target Text' not found.\n",
      "findfont: Font family 'Target Text' not found.\n",
      "findfont: Font family 'Target Text' not found.\n",
      "findfont: Font family 'Target Text' not found.\n",
      "findfont: Font family 'Target Text' not found.\n",
      "findfont: Font family 'Target Text' not found.\n",
      "findfont: Font family 'Target Text' not found.\n",
      "findfont: Font family 'Target Text' not found.\n",
      "findfont: Font family 'Target Text' not found.\n",
      "findfont: Font family 'Target Text' not found.\n",
      "findfont: Font family 'Target Text' not found.\n",
      "findfont: Font family 'Target Text' not found.\n",
      "findfont: Font family 'Target Text' not found.\n",
      "findfont: Font family 'Target Text' not found.\n",
      "findfont: Font family 'Target Text' not found.\n",
      "findfont: Font family 'Target Text' not found.\n",
      "findfont: Font family 'Target Text' not found.\n",
      "findfont: Font family 'Target Text' not found.\n",
      "findfont: Font family 'Target Text' not found.\n",
      "findfont: Font family 'Target Text' not found.\n",
      "findfont: Font family 'Target Text' not found.\n",
      "findfont: Font family 'Target Text' not found.\n",
      "findfont: Font family 'Target Text' not found.\n",
      "findfont: Font family 'Target Text' not found.\n",
      "findfont: Font family 'Target Text' not found.\n",
      "findfont: Font family 'Target Text' not found.\n",
      "findfont: Font family 'Target Text' not found.\n",
      "findfont: Font family 'Target Text' not found.\n",
      "findfont: Font family 'Target Text' not found.\n",
      "findfont: Font family 'Target Text' not found.\n",
      "findfont: Font family 'Target Text' not found.\n",
      "findfont: Font family 'Target Text' not found.\n",
      "findfont: Font family 'Target Text' not found.\n",
      "findfont: Font family 'Target Text' not found.\n",
      "findfont: Font family 'Target Text' not found.\n",
      "findfont: Font family 'Target Text' not found.\n",
      "findfont: Font family 'Target Text' not found.\n",
      "findfont: Font family 'Target Text' not found.\n",
      "findfont: Font family 'Target Text' not found.\n",
      "findfont: Font family 'Target Text' not found.\n",
      "findfont: Font family 'Target Text' not found.\n",
      "findfont: Font family 'Target Text' not found.\n",
      "findfont: Font family 'Target Text' not found.\n",
      "findfont: Font family 'Target Text' not found.\n",
      "findfont: Font family 'Target Text' not found.\n",
      "findfont: Font family 'Target Text' not found.\n",
      "findfont: Font family 'Target Text' not found.\n",
      "findfont: Font family 'Target Text' not found.\n",
      "findfont: Font family 'Target Text' not found.\n",
      "findfont: Font family 'Target Text' not found.\n",
      "findfont: Font family 'Target Text' not found.\n",
      "findfont: Font family 'Target Text' not found.\n",
      "findfont: Font family 'Target Text' not found.\n",
      "findfont: Font family 'Target Text' not found.\n",
      "findfont: Font family 'Target Text' not found.\n",
      "findfont: Font family 'Target Text' not found.\n"
     ]
    },
    {
     "data": {
      "image/png": "[encoded data removed]",
      "text/plain": [
       "<Figure size 1000x1000 with 1 Axes>"
      ]
     },
     "metadata": {},
     "output_type": "display_data"
    }
   ],
   "source": [
    "display_attention(m_src_tokens, m_trg_tokens, m_attentions)"
   ]
  },
  {
   "cell_type": "markdown",
   "metadata": {},
   "source": [
    "### Additive Attention Testing"
   ]
  },
  {
   "cell_type": "code",
   "execution_count": 481,
   "metadata": {},
   "outputs": [],
   "source": [
    "add_model.load_state_dict(torch.load(add_save_path))\n",
    "\n",
    "add_model.eval()\n",
    "with torch.no_grad():\n",
    "    a_output, a_attentions = add_model(src_text, trg_text) #turn off teacher forcing"
   ]
  },
  {
   "cell_type": "code",
   "execution_count": 482,
   "metadata": {},
   "outputs": [
    {
     "data": {
      "text/plain": [
       "torch.Size([1, 34, 4048])"
      ]
     },
     "execution_count": 482,
     "metadata": {},
     "output_type": "execute_result"
    }
   ],
   "source": [
    "a_output.shape #batch_size, trg_len, trg_output_dim"
   ]
  },
  {
   "cell_type": "markdown",
   "metadata": {},
   "source": [
    "Since batch size is 1, we just take off that dimension"
   ]
  },
  {
   "cell_type": "code",
   "execution_count": 483,
   "metadata": {},
   "outputs": [],
   "source": [
    "a_output = a_output.squeeze(0)"
   ]
  },
  {
   "cell_type": "code",
   "execution_count": 484,
   "metadata": {},
   "outputs": [
    {
     "data": {
      "text/plain": [
       "torch.Size([34, 4048])"
      ]
     },
     "execution_count": 484,
     "metadata": {},
     "output_type": "execute_result"
    }
   ],
   "source": [
    "a_output.shape"
   ]
  },
  {
   "cell_type": "markdown",
   "metadata": {},
   "source": [
    "We shall remove the first token since it's zeroes anyway"
   ]
  },
  {
   "cell_type": "code",
   "execution_count": 485,
   "metadata": {},
   "outputs": [
    {
     "data": {
      "text/plain": [
       "torch.Size([33, 4048])"
      ]
     },
     "execution_count": 485,
     "metadata": {},
     "output_type": "execute_result"
    }
   ],
   "source": [
    "a_output = a_output[1:]\n",
    "a_output.shape #trg_len, trg_output_dim"
   ]
  },
  {
   "cell_type": "markdown",
   "metadata": {},
   "source": [
    "Then we just take the top token with highest probabilities"
   ]
  },
  {
   "cell_type": "code",
   "execution_count": 486,
   "metadata": {},
   "outputs": [],
   "source": [
    "a_output_max = a_output.argmax(1) #returns max indices"
   ]
  },
  {
   "cell_type": "code",
   "execution_count": 487,
   "metadata": {},
   "outputs": [
    {
     "data": {
      "text/plain": [
       "tensor([ 20,  23,  46,   7,   5,   8,  16,   8,  74,   7,   5,  81,  20,  23,\n",
       "        237,  31, 237,  31,  15,  80,  64,  20,  23, 237, 185,   6,  19, 462,\n",
       "         55,  16,  29,  19,   6], device='cuda:0')"
      ]
     },
     "execution_count": 487,
     "metadata": {},
     "output_type": "execute_result"
    }
   ],
   "source": [
    "a_output_max"
   ]
  },
  {
   "cell_type": "markdown",
   "metadata": {},
   "source": [
    "Get the mapping of the target language"
   ]
  },
  {
   "cell_type": "code",
   "execution_count": 488,
   "metadata": {},
   "outputs": [],
   "source": [
    "a_mapping = vocab_transform[TRG_LANGUAGE].get_itos()"
   ]
  },
  {
   "cell_type": "code",
   "execution_count": 489,
   "metadata": {},
   "outputs": [
    {
     "name": "stdout",
     "output_type": "stream",
     "text": [
      "တို့\n",
      "၏\n",
      "လူ\n",
      "များ\n",
      "သည်\n",
      "က\n",
      "သော\n",
      "က\n",
      "လေး\n",
      "များ\n",
      "သည်\n",
      "၎င်း\n",
      "တို့\n",
      "၏\n",
      "အမည်\n",
      "မှ\n",
      "အမည်\n",
      "မှ\n",
      "တစ်\n",
      "ယောက်\n",
      "သာ\n",
      "တို့\n",
      "၏\n",
      "အမည်\n",
      "ထုတ်\n",
      "ကို\n",
      "၊\n",
      "ပြင်ဆင်\n",
      "ချက်\n",
      "သော\n",
      "ပြီး\n",
      "၊\n",
      "ကို\n"
     ]
    }
   ],
   "source": [
    "for token in a_output_max:\n",
    "    print(a_mapping[token.item()])"
   ]
  },
  {
   "cell_type": "markdown",
   "metadata": {},
   "source": [
    "Let's display the attentions to understand how the source text links with the generated text"
   ]
  },
  {
   "cell_type": "code",
   "execution_count": 490,
   "metadata": {},
   "outputs": [
    {
     "data": {
      "text/plain": [
       "torch.Size([1, 8, 34, 18])"
      ]
     },
     "execution_count": 490,
     "metadata": {},
     "output_type": "execute_result"
    }
   ],
   "source": [
    "a_attentions.shape"
   ]
  },
  {
   "cell_type": "markdown",
   "metadata": {},
   "source": [
    "Since there are 8 heads, we can look at just 1 head for sake of simplicity."
   ]
  },
  {
   "cell_type": "code",
   "execution_count": 491,
   "metadata": {},
   "outputs": [
    {
     "data": {
      "text/plain": [
       "torch.Size([34, 18])"
      ]
     },
     "execution_count": 491,
     "metadata": {},
     "output_type": "execute_result"
    }
   ],
   "source": [
    "a_attentions = a_attentions[0, 0, :, :]\n",
    "a_attentions.shape"
   ]
  },
  {
   "cell_type": "code",
   "execution_count": 492,
   "metadata": {},
   "outputs": [
    {
     "data": {
      "text/plain": [
       "['<sos>',\n",
       " 'The',\n",
       " 'children',\n",
       " 'attending',\n",
       " 'our',\n",
       " 'shows',\n",
       " 'prepare',\n",
       " 'in',\n",
       " 'advance',\n",
       " 'for',\n",
       " 'their',\n",
       " 'theatrical',\n",
       " 'experience',\n",
       " 'through',\n",
       " 'their',\n",
       " 'classs',\n",
       " 'curriculum',\n",
       " '<eos>']"
      ]
     },
     "execution_count": 492,
     "metadata": {},
     "output_type": "execute_result"
    }
   ],
   "source": [
    "a_src_tokens = ['<sos>'] + token_transform[SRC_LANGUAGE](text_text['en']) + ['<eos>']\n",
    "a_src_tokens"
   ]
  },
  {
   "cell_type": "code",
   "execution_count": 493,
   "metadata": {},
   "outputs": [
    {
     "data": {
      "text/plain": [
       "['<sos>',\n",
       " 'တို့',\n",
       " '၏',\n",
       " 'လူ',\n",
       " 'များ',\n",
       " 'သည်',\n",
       " 'က',\n",
       " 'သော',\n",
       " 'က',\n",
       " 'လေး',\n",
       " 'များ',\n",
       " 'သည်',\n",
       " '၎င်း',\n",
       " 'တို့',\n",
       " '၏',\n",
       " 'အမည်',\n",
       " 'မှ',\n",
       " 'အမည်',\n",
       " 'မှ',\n",
       " 'တစ်',\n",
       " 'ယောက်',\n",
       " 'သာ',\n",
       " 'တို့',\n",
       " '၏',\n",
       " 'အမည်',\n",
       " 'ထုတ်',\n",
       " 'ကို',\n",
       " '၊',\n",
       " 'ပြင်ဆင်',\n",
       " 'ချက်',\n",
       " 'သော',\n",
       " 'ပြီး',\n",
       " '၊',\n",
       " 'ကို']"
      ]
     },
     "execution_count": 493,
     "metadata": {},
     "output_type": "execute_result"
    }
   ],
   "source": [
    "a_trg_tokens = ['<sos>'] + [a_mapping[token.item()] for token in a_output_max]\n",
    "a_trg_tokens"
   ]
  },
  {
   "cell_type": "code",
   "execution_count": 494,
   "metadata": {},
   "outputs": [
    {
     "name": "stdout",
     "output_type": "stream",
     "text": [
      "Attention shape: torch.Size([34, 18])\n"
     ]
    },
    {
     "name": "stderr",
     "output_type": "stream",
     "text": [
      "C:\\Users\\ws-\\AppData\\Local\\Temp\\ipykernel_7032\\4006327969.py:24: UserWarning: set_ticklabels() should only be used with a fixed number of ticks, i.e. after set_ticks() or using a FixedLocator.\n",
      "  ax.set_xticklabels(x_ticks, rotation=45, name='Source Text')\n",
      "C:\\Users\\ws-\\AppData\\Local\\Temp\\ipykernel_7032\\4006327969.py:25: UserWarning: set_ticklabels() should only be used with a fixed number of ticks, i.e. after set_ticks() or using a FixedLocator.\n",
      "  ax.set_yticklabels(y_ticks, name='Target Text')\n",
      "findfont: Font family 'Source Text' not found.\n",
      "findfont: Font family 'Source Text' not found.\n",
      "findfont: Font family 'Source Text' not found.\n",
      "findfont: Font family 'Source Text' not found.\n",
      "findfont: Font family 'Source Text' not found.\n",
      "findfont: Font family 'Source Text' not found.\n",
      "findfont: Font family 'Source Text' not found.\n",
      "findfont: Font family 'Source Text' not found.\n",
      "findfont: Font family 'Source Text' not found.\n",
      "findfont: Font family 'Source Text' not found.\n",
      "findfont: Font family 'Source Text' not found.\n",
      "findfont: Font family 'Source Text' not found.\n",
      "findfont: Font family 'Source Text' not found.\n",
      "findfont: Font family 'Source Text' not found.\n",
      "findfont: Font family 'Source Text' not found.\n",
      "findfont: Font family 'Source Text' not found.\n",
      "findfont: Font family 'Source Text' not found.\n",
      "findfont: Font family 'Source Text' not found.\n",
      "findfont: Font family 'Target Text' not found.\n",
      "findfont: Font family 'Target Text' not found.\n",
      "findfont: Font family 'Target Text' not found.\n",
      "C:\\Users\\ws-\\AppData\\Local\\Packages\\PythonSoftwareFoundation.Python.3.10_qbz5n2kfra8p0\\LocalCache\\local-packages\\Python310\\site-packages\\IPython\\core\\pylabtools.py:170: UserWarning: Glyph 4112 (\\N{MYANMAR LETTER TA}) missing from font(s) DejaVu Sans.\n",
      "  fig.canvas.print_figure(bytes_io, **kw)\n",
      "C:\\Users\\ws-\\AppData\\Local\\Packages\\PythonSoftwareFoundation.Python.3.10_qbz5n2kfra8p0\\LocalCache\\local-packages\\Python310\\site-packages\\IPython\\core\\pylabtools.py:170: UserWarning: Glyph 4141 (\\N{MYANMAR VOWEL SIGN I}) missing from font(s) DejaVu Sans.\n",
      "  fig.canvas.print_figure(bytes_io, **kw)\n",
      "C:\\Users\\ws-\\AppData\\Local\\Packages\\PythonSoftwareFoundation.Python.3.10_qbz5n2kfra8p0\\LocalCache\\local-packages\\Python310\\site-packages\\IPython\\core\\pylabtools.py:170: UserWarning: Glyph 4143 (\\N{MYANMAR VOWEL SIGN U}) missing from font(s) DejaVu Sans.\n",
      "  fig.canvas.print_figure(bytes_io, **kw)\n",
      "C:\\Users\\ws-\\AppData\\Local\\Packages\\PythonSoftwareFoundation.Python.3.10_qbz5n2kfra8p0\\LocalCache\\local-packages\\Python310\\site-packages\\IPython\\core\\pylabtools.py:170: UserWarning: Glyph 4151 (\\N{MYANMAR SIGN DOT BELOW}) missing from font(s) DejaVu Sans.\n",
      "  fig.canvas.print_figure(bytes_io, **kw)\n",
      "findfont: Font family 'Target Text' not found.\n",
      "C:\\Users\\ws-\\AppData\\Local\\Packages\\PythonSoftwareFoundation.Python.3.10_qbz5n2kfra8p0\\LocalCache\\local-packages\\Python310\\site-packages\\IPython\\core\\pylabtools.py:170: UserWarning: Glyph 4175 (\\N{MYANMAR SYMBOL GENITIVE}) missing from font(s) DejaVu Sans.\n",
      "  fig.canvas.print_figure(bytes_io, **kw)\n",
      "findfont: Font family 'Target Text' not found.\n",
      "C:\\Users\\ws-\\AppData\\Local\\Packages\\PythonSoftwareFoundation.Python.3.10_qbz5n2kfra8p0\\LocalCache\\local-packages\\Python310\\site-packages\\IPython\\core\\pylabtools.py:170: UserWarning: Glyph 4124 (\\N{MYANMAR LETTER LA}) missing from font(s) DejaVu Sans.\n",
      "  fig.canvas.print_figure(bytes_io, **kw)\n",
      "C:\\Users\\ws-\\AppData\\Local\\Packages\\PythonSoftwareFoundation.Python.3.10_qbz5n2kfra8p0\\LocalCache\\local-packages\\Python310\\site-packages\\IPython\\core\\pylabtools.py:170: UserWarning: Glyph 4144 (\\N{MYANMAR VOWEL SIGN UU}) missing from font(s) DejaVu Sans.\n",
      "  fig.canvas.print_figure(bytes_io, **kw)\n",
      "findfont: Font family 'Target Text' not found.\n",
      "C:\\Users\\ws-\\AppData\\Local\\Packages\\PythonSoftwareFoundation.Python.3.10_qbz5n2kfra8p0\\LocalCache\\local-packages\\Python310\\site-packages\\IPython\\core\\pylabtools.py:170: UserWarning: Glyph 4121 (\\N{MYANMAR LETTER MA}) missing from font(s) DejaVu Sans.\n",
      "  fig.canvas.print_figure(bytes_io, **kw)\n",
      "C:\\Users\\ws-\\AppData\\Local\\Packages\\PythonSoftwareFoundation.Python.3.10_qbz5n2kfra8p0\\LocalCache\\local-packages\\Python310\\site-packages\\IPython\\core\\pylabtools.py:170: UserWarning: Glyph 4155 (\\N{MYANMAR CONSONANT SIGN MEDIAL YA}) missing from font(s) DejaVu Sans.\n",
      "  fig.canvas.print_figure(bytes_io, **kw)\n",
      "C:\\Users\\ws-\\AppData\\Local\\Packages\\PythonSoftwareFoundation.Python.3.10_qbz5n2kfra8p0\\LocalCache\\local-packages\\Python310\\site-packages\\IPython\\core\\pylabtools.py:170: UserWarning: Glyph 4140 (\\N{MYANMAR VOWEL SIGN AA}) missing from font(s) DejaVu Sans.\n",
      "  fig.canvas.print_figure(bytes_io, **kw)\n",
      "C:\\Users\\ws-\\AppData\\Local\\Packages\\PythonSoftwareFoundation.Python.3.10_qbz5n2kfra8p0\\LocalCache\\local-packages\\Python310\\site-packages\\IPython\\core\\pylabtools.py:170: UserWarning: Glyph 4152 (\\N{MYANMAR SIGN VISARGA}) missing from font(s) DejaVu Sans.\n",
      "  fig.canvas.print_figure(bytes_io, **kw)\n",
      "findfont: Font family 'Target Text' not found.\n",
      "C:\\Users\\ws-\\AppData\\Local\\Packages\\PythonSoftwareFoundation.Python.3.10_qbz5n2kfra8p0\\LocalCache\\local-packages\\Python310\\site-packages\\IPython\\core\\pylabtools.py:170: UserWarning: Glyph 4126 (\\N{MYANMAR LETTER SA}) missing from font(s) DejaVu Sans.\n",
      "  fig.canvas.print_figure(bytes_io, **kw)\n",
      "C:\\Users\\ws-\\AppData\\Local\\Packages\\PythonSoftwareFoundation.Python.3.10_qbz5n2kfra8p0\\LocalCache\\local-packages\\Python310\\site-packages\\IPython\\core\\pylabtools.py:170: UserWarning: Glyph 4106 (\\N{MYANMAR LETTER NNYA}) missing from font(s) DejaVu Sans.\n",
      "  fig.canvas.print_figure(bytes_io, **kw)\n",
      "C:\\Users\\ws-\\AppData\\Local\\Packages\\PythonSoftwareFoundation.Python.3.10_qbz5n2kfra8p0\\LocalCache\\local-packages\\Python310\\site-packages\\IPython\\core\\pylabtools.py:170: UserWarning: Glyph 4154 (\\N{MYANMAR SIGN ASAT}) missing from font(s) DejaVu Sans.\n",
      "  fig.canvas.print_figure(bytes_io, **kw)\n",
      "findfont: Font family 'Target Text' not found.\n",
      "C:\\Users\\ws-\\AppData\\Local\\Packages\\PythonSoftwareFoundation.Python.3.10_qbz5n2kfra8p0\\LocalCache\\local-packages\\Python310\\site-packages\\IPython\\core\\pylabtools.py:170: UserWarning: Glyph 4096 (\\N{MYANMAR LETTER KA}) missing from font(s) DejaVu Sans.\n",
      "  fig.canvas.print_figure(bytes_io, **kw)\n",
      "findfont: Font family 'Target Text' not found.\n",
      "C:\\Users\\ws-\\AppData\\Local\\Packages\\PythonSoftwareFoundation.Python.3.10_qbz5n2kfra8p0\\LocalCache\\local-packages\\Python310\\site-packages\\IPython\\core\\pylabtools.py:170: UserWarning: Glyph 4145 (\\N{MYANMAR VOWEL SIGN E}) missing from font(s) DejaVu Sans.\n",
      "  fig.canvas.print_figure(bytes_io, **kw)\n",
      "findfont: Font family 'Target Text' not found.\n",
      "findfont: Font family 'Target Text' not found.\n",
      "C:\\Users\\ws-\\AppData\\Local\\Packages\\PythonSoftwareFoundation.Python.3.10_qbz5n2kfra8p0\\LocalCache\\local-packages\\Python310\\site-packages\\IPython\\core\\pylabtools.py:170: UserWarning: Glyph 4174 (\\N{MYANMAR SYMBOL AFOREMENTIONED}) missing from font(s) DejaVu Sans.\n",
      "  fig.canvas.print_figure(bytes_io, **kw)\n",
      "C:\\Users\\ws-\\AppData\\Local\\Packages\\PythonSoftwareFoundation.Python.3.10_qbz5n2kfra8p0\\LocalCache\\local-packages\\Python310\\site-packages\\IPython\\core\\pylabtools.py:170: UserWarning: Glyph 4100 (\\N{MYANMAR LETTER NGA}) missing from font(s) DejaVu Sans.\n",
      "  fig.canvas.print_figure(bytes_io, **kw)\n",
      "findfont: Font family 'Target Text' not found.\n",
      "C:\\Users\\ws-\\AppData\\Local\\Packages\\PythonSoftwareFoundation.Python.3.10_qbz5n2kfra8p0\\LocalCache\\local-packages\\Python310\\site-packages\\IPython\\core\\pylabtools.py:170: UserWarning: Glyph 4129 (\\N{MYANMAR LETTER A}) missing from font(s) DejaVu Sans.\n",
      "  fig.canvas.print_figure(bytes_io, **kw)\n",
      "findfont: Font family 'Target Text' not found.\n",
      "C:\\Users\\ws-\\AppData\\Local\\Packages\\PythonSoftwareFoundation.Python.3.10_qbz5n2kfra8p0\\LocalCache\\local-packages\\Python310\\site-packages\\IPython\\core\\pylabtools.py:170: UserWarning: Glyph 4158 (\\N{MYANMAR CONSONANT SIGN MEDIAL HA}) missing from font(s) DejaVu Sans.\n",
      "  fig.canvas.print_figure(bytes_io, **kw)\n",
      "findfont: Font family 'Target Text' not found.\n",
      "C:\\Users\\ws-\\AppData\\Local\\Packages\\PythonSoftwareFoundation.Python.3.10_qbz5n2kfra8p0\\LocalCache\\local-packages\\Python310\\site-packages\\IPython\\core\\pylabtools.py:170: UserWarning: Glyph 4101 (\\N{MYANMAR LETTER CA}) missing from font(s) DejaVu Sans.\n",
      "  fig.canvas.print_figure(bytes_io, **kw)\n",
      "findfont: Font family 'Target Text' not found.\n",
      "C:\\Users\\ws-\\AppData\\Local\\Packages\\PythonSoftwareFoundation.Python.3.10_qbz5n2kfra8p0\\LocalCache\\local-packages\\Python310\\site-packages\\IPython\\core\\pylabtools.py:170: UserWarning: Glyph 4122 (\\N{MYANMAR LETTER YA}) missing from font(s) DejaVu Sans.\n",
      "  fig.canvas.print_figure(bytes_io, **kw)\n",
      "findfont: Font family 'Target Text' not found.\n",
      "findfont: Font family 'Target Text' not found.\n",
      "C:\\Users\\ws-\\AppData\\Local\\Packages\\PythonSoftwareFoundation.Python.3.10_qbz5n2kfra8p0\\LocalCache\\local-packages\\Python310\\site-packages\\IPython\\core\\pylabtools.py:170: UserWarning: Glyph 4113 (\\N{MYANMAR LETTER THA}) missing from font(s) DejaVu Sans.\n",
      "  fig.canvas.print_figure(bytes_io, **kw)\n",
      "findfont: Font family 'Target Text' not found.\n",
      "findfont: Font family 'Target Text' not found.\n",
      "C:\\Users\\ws-\\AppData\\Local\\Packages\\PythonSoftwareFoundation.Python.3.10_qbz5n2kfra8p0\\LocalCache\\local-packages\\Python310\\site-packages\\IPython\\core\\pylabtools.py:170: UserWarning: Glyph 4170 (\\N{MYANMAR SIGN LITTLE SECTION}) missing from font(s) DejaVu Sans.\n",
      "  fig.canvas.print_figure(bytes_io, **kw)\n",
      "findfont: Font family 'Target Text' not found.\n",
      "C:\\Users\\ws-\\AppData\\Local\\Packages\\PythonSoftwareFoundation.Python.3.10_qbz5n2kfra8p0\\LocalCache\\local-packages\\Python310\\site-packages\\IPython\\core\\pylabtools.py:170: UserWarning: Glyph 4117 (\\N{MYANMAR LETTER PA}) missing from font(s) DejaVu Sans.\n",
      "  fig.canvas.print_figure(bytes_io, **kw)\n",
      "C:\\Users\\ws-\\AppData\\Local\\Packages\\PythonSoftwareFoundation.Python.3.10_qbz5n2kfra8p0\\LocalCache\\local-packages\\Python310\\site-packages\\IPython\\core\\pylabtools.py:170: UserWarning: Glyph 4156 (\\N{MYANMAR CONSONANT SIGN MEDIAL RA}) missing from font(s) DejaVu Sans.\n",
      "  fig.canvas.print_figure(bytes_io, **kw)\n",
      "C:\\Users\\ws-\\AppData\\Local\\Packages\\PythonSoftwareFoundation.Python.3.10_qbz5n2kfra8p0\\LocalCache\\local-packages\\Python310\\site-packages\\IPython\\core\\pylabtools.py:170: UserWarning: Glyph 4102 (\\N{MYANMAR LETTER CHA}) missing from font(s) DejaVu Sans.\n",
      "  fig.canvas.print_figure(bytes_io, **kw)\n",
      "findfont: Font family 'Target Text' not found.\n",
      "C:\\Users\\ws-\\AppData\\Local\\Packages\\PythonSoftwareFoundation.Python.3.10_qbz5n2kfra8p0\\LocalCache\\local-packages\\Python310\\site-packages\\IPython\\core\\pylabtools.py:170: UserWarning: Glyph 4097 (\\N{MYANMAR LETTER KHA}) missing from font(s) DejaVu Sans.\n",
      "  fig.canvas.print_figure(bytes_io, **kw)\n",
      "findfont: Font family 'Target Text' not found.\n"
     ]
    },
    {
     "name": "stderr",
     "output_type": "stream",
     "text": [
      "C:\\Users\\ws-\\AppData\\Local\\Packages\\PythonSoftwareFoundation.Python.3.10_qbz5n2kfra8p0\\LocalCache\\local-packages\\Python310\\site-packages\\IPython\\core\\pylabtools.py:170: UserWarning: Glyph 4142 (\\N{MYANMAR VOWEL SIGN II}) missing from font(s) DejaVu Sans.\n",
      "  fig.canvas.print_figure(bytes_io, **kw)\n",
      "findfont: Font family 'Source Text' not found.\n",
      "findfont: Font family 'Source Text' not found.\n",
      "findfont: Font family 'Source Text' not found.\n",
      "findfont: Font family 'Source Text' not found.\n",
      "findfont: Font family 'Source Text' not found.\n",
      "findfont: Font family 'Source Text' not found.\n",
      "findfont: Font family 'Source Text' not found.\n",
      "findfont: Font family 'Source Text' not found.\n",
      "findfont: Font family 'Source Text' not found.\n",
      "findfont: Font family 'Source Text' not found.\n",
      "findfont: Font family 'Source Text' not found.\n",
      "findfont: Font family 'Source Text' not found.\n",
      "findfont: Font family 'Source Text' not found.\n",
      "findfont: Font family 'Source Text' not found.\n",
      "findfont: Font family 'Source Text' not found.\n",
      "findfont: Font family 'Source Text' not found.\n",
      "findfont: Font family 'Source Text' not found.\n",
      "findfont: Font family 'Source Text' not found.\n",
      "findfont: Font family 'Source Text' not found.\n",
      "findfont: Font family 'Source Text' not found.\n",
      "findfont: Font family 'Source Text' not found.\n",
      "findfont: Font family 'Source Text' not found.\n",
      "findfont: Font family 'Source Text' not found.\n",
      "findfont: Font family 'Source Text' not found.\n",
      "findfont: Font family 'Source Text' not found.\n",
      "findfont: Font family 'Source Text' not found.\n",
      "findfont: Font family 'Source Text' not found.\n",
      "findfont: Font family 'Source Text' not found.\n",
      "findfont: Font family 'Source Text' not found.\n",
      "findfont: Font family 'Source Text' not found.\n",
      "findfont: Font family 'Source Text' not found.\n",
      "findfont: Font family 'Source Text' not found.\n",
      "findfont: Font family 'Source Text' not found.\n",
      "findfont: Font family 'Source Text' not found.\n",
      "findfont: Font family 'Source Text' not found.\n",
      "findfont: Font family 'Source Text' not found.\n",
      "findfont: Font family 'Target Text' not found.\n",
      "findfont: Font family 'Target Text' not found.\n",
      "findfont: Font family 'Target Text' not found.\n",
      "findfont: Font family 'Target Text' not found.\n",
      "findfont: Font family 'Target Text' not found.\n",
      "findfont: Font family 'Target Text' not found.\n",
      "findfont: Font family 'Target Text' not found.\n",
      "findfont: Font family 'Target Text' not found.\n",
      "findfont: Font family 'Target Text' not found.\n",
      "findfont: Font family 'Target Text' not found.\n",
      "findfont: Font family 'Target Text' not found.\n",
      "findfont: Font family 'Target Text' not found.\n",
      "findfont: Font family 'Target Text' not found.\n",
      "findfont: Font family 'Target Text' not found.\n",
      "findfont: Font family 'Target Text' not found.\n",
      "findfont: Font family 'Target Text' not found.\n",
      "findfont: Font family 'Target Text' not found.\n",
      "findfont: Font family 'Target Text' not found.\n",
      "findfont: Font family 'Target Text' not found.\n",
      "findfont: Font family 'Target Text' not found.\n",
      "findfont: Font family 'Target Text' not found.\n",
      "findfont: Font family 'Target Text' not found.\n",
      "findfont: Font family 'Target Text' not found.\n",
      "findfont: Font family 'Target Text' not found.\n",
      "findfont: Font family 'Target Text' not found.\n",
      "findfont: Font family 'Target Text' not found.\n",
      "findfont: Font family 'Target Text' not found.\n",
      "findfont: Font family 'Target Text' not found.\n",
      "findfont: Font family 'Target Text' not found.\n",
      "findfont: Font family 'Target Text' not found.\n",
      "findfont: Font family 'Target Text' not found.\n",
      "findfont: Font family 'Target Text' not found.\n",
      "findfont: Font family 'Target Text' not found.\n",
      "findfont: Font family 'Target Text' not found.\n",
      "findfont: Font family 'Target Text' not found.\n",
      "findfont: Font family 'Target Text' not found.\n",
      "findfont: Font family 'Target Text' not found.\n",
      "findfont: Font family 'Target Text' not found.\n",
      "findfont: Font family 'Target Text' not found.\n",
      "findfont: Font family 'Target Text' not found.\n",
      "findfont: Font family 'Target Text' not found.\n",
      "findfont: Font family 'Target Text' not found.\n",
      "findfont: Font family 'Target Text' not found.\n",
      "findfont: Font family 'Target Text' not found.\n",
      "findfont: Font family 'Target Text' not found.\n",
      "findfont: Font family 'Target Text' not found.\n",
      "findfont: Font family 'Target Text' not found.\n",
      "findfont: Font family 'Target Text' not found.\n",
      "findfont: Font family 'Target Text' not found.\n",
      "findfont: Font family 'Target Text' not found.\n",
      "findfont: Font family 'Target Text' not found.\n",
      "findfont: Font family 'Target Text' not found.\n",
      "findfont: Font family 'Target Text' not found.\n",
      "findfont: Font family 'Target Text' not found.\n",
      "findfont: Font family 'Target Text' not found.\n",
      "findfont: Font family 'Target Text' not found.\n"
     ]
    },
    {
     "data": {
      "image/png": "[encoded data removed]",
      "text/plain": [
       "<Figure size 1000x1000 with 1 Axes>"
      ]
     },
     "metadata": {},
     "output_type": "display_data"
    }
   ],
   "source": [
    "display_attention(a_src_tokens, a_trg_tokens, a_attentions)"
   ]
  },
  {
   "cell_type": "code",
   "execution_count": null,
   "metadata": {},
   "outputs": [],
   "source": []
  }
 ],
 "metadata": {
  "kernelspec": {
   "display_name": "Python 3",
   "language": "python",
   "name": "python3"
  },
  "language_info": {
   "codemirror_mode": {
    "name": "ipython",
    "version": 3
   },
   "file_extension": ".py",
   "mimetype": "text/x-python",
   "name": "python",
   "nbconvert_exporter": "python",
   "pygments_lexer": "ipython3",
   "version": "3.10.11"
  }
 },
 "nbformat": 4,
 "nbformat_minor": 4
}
