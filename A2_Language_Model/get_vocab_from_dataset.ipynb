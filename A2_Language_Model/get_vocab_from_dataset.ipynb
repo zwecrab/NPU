{
 "cells": [
  {
   "cell_type": "code",
   "execution_count": 2,
   "metadata": {},
   "outputs": [
    {
     "name": "stderr",
     "output_type": "stream",
     "text": [
      "C:\\Users\\ws-\\AppData\\Roaming\\Python\\Python312\\site-packages\\tqdm\\auto.py:21: TqdmWarning: IProgress not found. Please update jupyter and ipywidgets. See https://ipywidgets.readthedocs.io/en/stable/user_install.html\n",
      "  from .autonotebook import tqdm as notebook_tqdm\n"
     ]
    },
    {
     "name": "stdout",
     "output_type": "stream",
     "text": [
      "Vocabulary size: 13388\n",
      "First 10 tokens: ['<unk>', '<eos>', '.', ',', 'the', '”', 'and', 'to', 'of', 'a']\n"
     ]
    }
   ],
   "source": [
    "from datasets import load_from_disk\n",
    "import torchtext\n",
    "import pickle\n",
    "\n",
    "# Load the tokenized dataset from the folder\n",
    "tokenized_dataset = load_from_disk('tokenized_dataset')\n",
    "\n",
    "# Extract tokens from the tokenized dataset\n",
    "def yield_tokens(dataset):\n",
    "    for example in dataset:\n",
    "        yield example['tokens']\n",
    "\n",
    "# Build the vocabulary\n",
    "vocab = torchtext.vocab.build_vocab_from_iterator(yield_tokens(tokenized_dataset['train']), min_freq=3)\n",
    "\n",
    "# Add special tokens\n",
    "vocab.insert_token('<unk>', 0)\n",
    "vocab.insert_token('<eos>', 1)\n",
    "vocab.set_default_index(vocab['<unk>'])\n",
    "\n",
    "# Save the vocabulary to a file\n",
    "with open('model/vocab.pkl', 'wb') as f:\n",
    "    pickle.dump(vocab, f)\n",
    "\n",
    "# Print the vocabulary size and some tokens\n",
    "print(f\"Vocabulary size: {len(vocab)}\")\n",
    "print(f\"First 10 tokens: {vocab.get_itos()[:10]}\")"
   ]
  },
  {
   "cell_type": "code",
   "execution_count": null,
   "metadata": {},
   "outputs": [],
   "source": []
  }
 ],
 "metadata": {
  "kernelspec": {
   "display_name": "Python 3",
   "language": "python",
   "name": "python3"
  },
  "language_info": {
   "codemirror_mode": {
    "name": "ipython",
    "version": 3
   },
   "file_extension": ".py",
   "mimetype": "text/x-python",
   "name": "python",
   "nbconvert_exporter": "python",
   "pygments_lexer": "ipython3",
   "version": "3.12.2"
  }
 },
 "nbformat": 4,
 "nbformat_minor": 2
}
