{
 "cells": [
  {
   "cell_type": "markdown",
   "metadata": {},
   "source": [
    "# Extract text from PDF files"
   ]
  },
  {
   "cell_type": "code",
   "execution_count": 33,
   "metadata": {},
   "outputs": [
    {
     "name": "stdout",
     "output_type": "stream",
     "text": [
      "Extracted text from HP1.pdf\n",
      "Extracted text from HP2.pdf\n",
      "Extracted text from HP3.pdf\n",
      "Extracted text from HP4.pdf\n",
      "Extracted text from HP5.pdf\n",
      "Extracted text from HP6.pdf\n",
      "Extracted text from HP7.pdf\n",
      "\n",
      " Extracted text from all PDF files\n"
     ]
    }
   ],
   "source": [
    "import fitz  # PyMuPDF\n",
    "import os\n",
    "\n",
    "# Path to the folder containing the PDF files\n",
    "pdf_folder = \"Harry-Potter-Dataset\"\n",
    "\n",
    "# Initialize an empty string to store the combined text\n",
    "combined_text = \"\"\n",
    "\n",
    "# Loop through all PDF files in the folder\n",
    "for pdf_file in sorted(os.listdir(pdf_folder)):\n",
    "    if pdf_file.endswith(\".pdf\"):\n",
    "        # Construct the full path to the PDF file\n",
    "        pdf_path = os.path.join(pdf_folder, pdf_file)\n",
    "        \n",
    "        # Open the PDF file\n",
    "        pdf = fitz.open(pdf_path)\n",
    "        \n",
    "        # Extract text from each page\n",
    "        for page_num in range(len(pdf)):\n",
    "            page = pdf.load_page(page_num)\n",
    "            combined_text += page.get_text()\n",
    "        \n",
    "        print(f\"Extracted text from {pdf_file}\")\n",
    "        \n",
    "print('\\n Extracted text from all PDF files')"
   ]
  },
  {
   "cell_type": "code",
   "execution_count": 34,
   "metadata": {},
   "outputs": [
    {
     "name": "stdout",
     "output_type": "stream",
     "text": [
      "briefcase, pecked \n",
      "Mrs. Dursley on the cheek, and tried to kiss Dudley good-bye but \n",
      "missed, because Dudley was now having a tantrum and throwing \n",
      "his cereal at the walls. “Little tyke,” chortled Mr. Dursley as he left \n",
      "the house. He got into his car and backed out of number four’s \n",
      "drive. \n",
      "It was on the corner of the street that he noticed the first sign of \n",
      "something peculiar — a cat reading a map. For a second, Mr. \n",
      "Dursley didn’t realize what he had seen — then he jerked his head \n",
      "around to look again. There was a tabby cat standing on the corner  \n",
      " \n",
      "THE  BOY  WHO  LIVED \n",
      " 3  \n",
      "of Privet Drive, but there wasn’t a map in sight. What could he \n",
      "have been thinking of? It must have been a trick of the light. Mr. \n",
      "Dursley blinked and stared at the cat. It stared back. As Mr. Durs-\n",
      "ley drove around the corner and up the road, he watched the cat in \n",
      "his mirror. It was now reading the sign that said Privet Drive — no, \n",
      "looking at the sign; cats couldn’t read maps or signs. Mr. Dursley \n",
      "gav\n"
     ]
    }
   ],
   "source": [
    "# output_file = \"combined_harry_potter.txt\"\n",
    "# with open(output_file, \"w\", encoding=\"utf-8\") as f:\n",
    "#     f.write(combined_text)\n",
    "\n",
    "# print(f\"Combined text saved to {output_file}\")\n",
    "\n",
    "# with open(\"combined_harry_potter.txt\", \"r\", encoding=\"utf-8\") as f:\n",
    "#     combined_text = f.read()\n",
    "\n",
    "# Print the first 1000 characters as a preview\n",
    "print(combined_text[5000:6000])"
   ]
  },
  {
   "cell_type": "markdown",
   "metadata": {},
   "source": [
    "# Normalize the text"
   ]
  },
  {
   "cell_type": "code",
   "execution_count": 35,
   "metadata": {},
   "outputs": [],
   "source": [
    "import re\n",
    "\n",
    "def normalize_text(text):\n",
    "    cleaned_text = re.sub(r'\\s+', ' ', text)  # Replace all sequences of whitespace (spaces, tabs, newlines) with a single space\n",
    "    cleaned_text = re.sub(r'#', '', cleaned_text)  # Remove special characters like '#'\n",
    "    return cleaned_text.strip()  # Remove leading/trailing spaces"
   ]
  },
  {
   "cell_type": "code",
   "execution_count": 36,
   "metadata": {},
   "outputs": [
    {
     "data": {
      "text/plain": [
       "'Harry Potter And the Sorcerer’s Stone ALSO BY J. K. ROWLING Harry Potter and the Sorcerer’s Stone Year One at Hogwarts Harry Potter and the Chamber of Secrets Year Two at Hogwarts Harry Potter and the Prisoner of Azkaban Year Three at Hogwarts Harry Potter and the Goblet of Fire Year Four at Hogwarts Harry Potter and the Order of the Phoenix Year Five at Hogwarts Harry Potter and the Half-Blood Prince Year Six at Hogwarts Harry Potter and the Deathly Hallows Year Seven at Hogwarts Harry Potter and the Sorcerer’s Stone BY J. K. Rowling ILLUSTRATIONS BY Mary GrandPré ARTHUR A. LEVINE BOOKS AN IMPRINT OF SCHOLASTIC Press. For Jessica, who loves stories for Anne, who loved them too; and for Di, who heard this one first. Text copyright © 1997 by J.K. Rowling Illustrations by Mary GrandPré copyright © 1998 Warner Bros. All rights reserved. Published by Scholastic Press, a division of Scholastic Inc., Publishers since 1920 SCHOLASTIC, SCHOLASTIC PRESS, and the LANTERN LOGO are trademarks and/'"
      ]
     },
     "execution_count": 36,
     "metadata": {},
     "output_type": "execute_result"
    }
   ],
   "source": [
    "cleaned_text = normalize_text(combined_text)\n",
    "cleaned_text[:1000]"
   ]
  },
  {
   "cell_type": "markdown",
   "metadata": {},
   "source": [
    "# Tokenize the text into sentences"
   ]
  },
  {
   "cell_type": "code",
   "execution_count": 37,
   "metadata": {},
   "outputs": [
    {
     "name": "stderr",
     "output_type": "stream",
     "text": [
      "[nltk_data] Downloading package punkt to\n",
      "[nltk_data]     C:\\Users\\ws-\\AppData\\Roaming\\nltk_data...\n",
      "[nltk_data]   Package punkt is already up-to-date!\n"
     ]
    }
   ],
   "source": [
    "import nltk\n",
    "nltk.download('punkt')\n",
    "sentences = nltk.sent_tokenize(cleaned_text)"
   ]
  },
  {
   "cell_type": "code",
   "execution_count": 38,
   "metadata": {},
   "outputs": [],
   "source": [
    "import pandas as pd\n",
    "\n",
    "data = pd.DataFrame({\n",
    "    'text': sentences\n",
    "})"
   ]
  },
  {
   "cell_type": "code",
   "execution_count": 39,
   "metadata": {},
   "outputs": [
    {
     "data": {
      "text/html": [
       "<div>\n",
       "<style scoped>\n",
       "    .dataframe tbody tr th:only-of-type {\n",
       "        vertical-align: middle;\n",
       "    }\n",
       "\n",
       "    .dataframe tbody tr th {\n",
       "        vertical-align: top;\n",
       "    }\n",
       "\n",
       "    .dataframe thead th {\n",
       "        text-align: right;\n",
       "    }\n",
       "</style>\n",
       "<table border=\"1\" class=\"dataframe\">\n",
       "  <thead>\n",
       "    <tr style=\"text-align: right;\">\n",
       "      <th></th>\n",
       "      <th>text</th>\n",
       "    </tr>\n",
       "  </thead>\n",
       "  <tbody>\n",
       "    <tr>\n",
       "      <th>0</th>\n",
       "      <td>Harry Potter And the Sorcerer’s Stone ALSO BY ...</td>\n",
       "    </tr>\n",
       "    <tr>\n",
       "      <th>1</th>\n",
       "      <td>For Jessica, who loves stories for Anne, who l...</td>\n",
       "    </tr>\n",
       "    <tr>\n",
       "      <th>2</th>\n",
       "      <td>Text copyright © 1997 by J.K. Rowling Illustra...</td>\n",
       "    </tr>\n",
       "    <tr>\n",
       "      <th>3</th>\n",
       "      <td>Published by Scholastic Press, a division of S...</td>\n",
       "    </tr>\n",
       "    <tr>\n",
       "      <th>4</th>\n",
       "      <td>For information regarding permissions, write t...</td>\n",
       "    </tr>\n",
       "    <tr>\n",
       "      <th>...</th>\n",
       "      <td>...</td>\n",
       "    </tr>\n",
       "    <tr>\n",
       "      <th>83263</th>\n",
       "      <td>This book was art directed by David Saylor.</td>\n",
       "    </tr>\n",
       "    <tr>\n",
       "      <th>83264</th>\n",
       "      <td>The art for both the jacket and the interior w...</td>\n",
       "    </tr>\n",
       "    <tr>\n",
       "      <th>83265</th>\n",
       "      <td>The text was set in 12-point Adobe Garamond, a...</td>\n",
       "    </tr>\n",
       "    <tr>\n",
       "      <th>83266</th>\n",
       "      <td>The book was typeset by Brad Walrod and was pr...</td>\n",
       "    </tr>\n",
       "    <tr>\n",
       "      <th>83267</th>\n",
       "      <td>The Managing Editor was Karyn Browne; the Cont...</td>\n",
       "    </tr>\n",
       "  </tbody>\n",
       "</table>\n",
       "<p>83268 rows × 1 columns</p>\n",
       "</div>"
      ],
      "text/plain": [
       "                                                    text\n",
       "0      Harry Potter And the Sorcerer’s Stone ALSO BY ...\n",
       "1      For Jessica, who loves stories for Anne, who l...\n",
       "2      Text copyright © 1997 by J.K. Rowling Illustra...\n",
       "3      Published by Scholastic Press, a division of S...\n",
       "4      For information regarding permissions, write t...\n",
       "...                                                  ...\n",
       "83263        This book was art directed by David Saylor.\n",
       "83264  The art for both the jacket and the interior w...\n",
       "83265  The text was set in 12-point Adobe Garamond, a...\n",
       "83266  The book was typeset by Brad Walrod and was pr...\n",
       "83267  The Managing Editor was Karyn Browne; the Cont...\n",
       "\n",
       "[83268 rows x 1 columns]"
      ]
     },
     "execution_count": 39,
     "metadata": {},
     "output_type": "execute_result"
    }
   ],
   "source": [
    "data"
   ]
  },
  {
   "cell_type": "code",
   "execution_count": 40,
   "metadata": {},
   "outputs": [],
   "source": [
    "import os\n",
    "\n",
    "data.to_csv('cleaned_story.csv', index=False)"
   ]
  },
  {
   "cell_type": "code",
   "execution_count": null,
   "metadata": {},
   "outputs": [],
   "source": []
  },
  {
   "cell_type": "code",
   "execution_count": null,
   "metadata": {},
   "outputs": [],
   "source": [
    "# import torch\n",
    "# import torch.nn as nn\n",
    "# import torch.optim as optim\n",
    "# import pandas as pd\n",
    "# import torchtext, datasets, math, torchtext\n",
    "# from tqdm import tqdm\n",
    "# from datasets import Dataset, DatasetDict"
   ]
  },
  {
   "cell_type": "code",
   "execution_count": 42,
   "metadata": {},
   "outputs": [],
   "source": [
    "# hf_dataset = Dataset.from_pandas(data)\n",
    "\n",
    "# hf_dataset = hf_dataset.shuffle(seed=42)\n",
    "\n",
    "# train_size = int(0.8 * len(hf_dataset))\n",
    "# validation_size = int(0.2 * len(hf_dataset))\n",
    "\n",
    "# train_dataset = hf_dataset.select(range(train_size))\n",
    "# validation_dataset = hf_dataset.select(range(train_size, train_size + validation_size))\n",
    "# test_dataset = hf_dataset.select(range(train_size + validation_size, len(hf_dataset)))\n",
    "\n",
    "# final_dataset = DatasetDict({\n",
    "#     'train': train_dataset,\n",
    "#     'validation': validation_dataset,\n",
    "#     'test': test_dataset\n",
    "# })\n"
   ]
  },
  {
   "cell_type": "code",
   "execution_count": 43,
   "metadata": {},
   "outputs": [
    {
     "data": {
      "text/plain": [
       "DatasetDict({\n",
       "    train: Dataset({\n",
       "        features: ['text'],\n",
       "        num_rows: 66614\n",
       "    })\n",
       "    validation: Dataset({\n",
       "        features: ['text'],\n",
       "        num_rows: 16653\n",
       "    })\n",
       "    test: Dataset({\n",
       "        features: ['text'],\n",
       "        num_rows: 1\n",
       "    })\n",
       "})"
      ]
     },
     "execution_count": 43,
     "metadata": {},
     "output_type": "execute_result"
    }
   ],
   "source": [
    "# final_dataset"
   ]
  },
  {
   "cell_type": "code",
   "execution_count": 44,
   "metadata": {},
   "outputs": [
    {
     "name": "stderr",
     "output_type": "stream",
     "text": [
      "Saving the dataset (1/1 shards): 100%|██████████| 66614/66614 [00:00<00:00, 324906.41 examples/s]\n",
      "Saving the dataset (1/1 shards): 100%|██████████| 16653/16653 [00:00<00:00, 313177.86 examples/s]\n",
      "Saving the dataset (1/1 shards): 100%|██████████| 1/1 [00:00<00:00, 157.57 examples/s]\n"
     ]
    }
   ],
   "source": [
    "# final_dataset.save_to_disk(\"harry_potter_dataset\")"
   ]
  }
 ],
 "metadata": {
  "kernelspec": {
   "display_name": "Python 3",
   "language": "python",
   "name": "python3"
  },
  "language_info": {
   "codemirror_mode": {
    "name": "ipython",
    "version": 3
   },
   "file_extension": ".py",
   "mimetype": "text/x-python",
   "name": "python",
   "nbconvert_exporter": "python",
   "pygments_lexer": "ipython3",
   "version": "3.12.2"
  }
 },
 "nbformat": 4,
 "nbformat_minor": 2
}
